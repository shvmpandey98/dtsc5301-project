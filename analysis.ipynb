{
  "cells": [
    {
      "cell_type": "markdown",
      "metadata": {
        "id": "9NCodh74_VYZ"
      },
      "source": [
        "<h1><center>DTSC 5301 | Final Project Report</center></h1>\n",
        "<h2><center>Team: Energy</center></h2>"
      ]
    },
    {
      "cell_type": "code",
      "execution_count": 12,
      "metadata": {},
      "outputs": [
        {
          "name": "stdout",
          "output_type": "stream",
          "text": [
            "Requirement already satisfied: plotly in /Users/shivam/miniconda3/envs/pythonenv/lib/python3.10/site-packages (5.9.0)\n",
            "Requirement already satisfied: tenacity>=6.2.0 in /Users/shivam/miniconda3/envs/pythonenv/lib/python3.10/site-packages (from plotly) (8.2.2)\n"
          ]
        }
      ],
      "source": [
        "# As the notebook needs to be rendered in nbviewer for interactive plots\n",
        "!pip install plotly"
      ]
    },
    {
      "cell_type": "markdown",
      "metadata": {
        "id": "w0Yu4Z1uUrJl"
      },
      "source": [
        "### Authors\n",
        "\n",
        "\n",
        "\n",
        "*   Rona Guo, rugu3582@colorado.edu\n",
        "*   Sasi Jyothirmai Bonu, sabo8713@colorado.edu\n",
        "*   Shivam Pandey, shpa5426@colorado.edu\n",
        "*   Tushar Sharma, tush4938@colorado.edu\n",
        "*   Veronica Martinez, veronica.martinez@colorado.edu\n",
        "*   Wyett Considine, wyco0384@colorado.edu\n",
        "\n",
        "\n",
        "\n",
        "\n",
        "\n",
        "### Table Of Contents\n",
        "\n",
        "1. Introduction\n",
        "2. Questions\n",
        "3. Data Source\n",
        "4. Analysis\n",
        "5. Conclusion\n",
        "6. Citations\n",
        "\n",
        "\n",
        "\n",
        "### Introduction\n",
        "\n",
        "\n",
        "Climate change is the main issue in the public discourse on energy. A climate catastrophe puts our current well-being, the well-being of those who will follow us, and the surrounding natural world in jeopardy. Many international treaties have been signed with the hopes (ambitions?) of reducing CO2 emissions. However, large-scale alternatives to fossil fuels that are secure, affordable, and low-carbon are still lacking in the world. Our analysis seeks to study the make-up of energy consumption by source over the past 5 decades, to quantitatively evaluate the complaince by region, and to assess the total energy consumption by region.\n",
        "\n",
        "\n",
        "\n",
        "\n",
        "\n",
        "### Questions\n",
        "- How has global per capita energy consumption changed over time?\n",
        "- How does the renewable vs. non-renewable makeup of this energy consumption compare?\n",
        "\n",
        "\n",
        "### Data Source\n",
        "Data was accessed from [Our World in Data](https://ourworldindata.org/explorers/energy?tab=table&facet=none&country=USA~GBR~CHN~OWID_WRL~IND~BRA~ZAF&Total+or+Breakdown=Total&Energy+or+Electricity=Primary+energy&Metric=Per+capita+consumption). The dataset used in this analysis contains energy consumption per capita, measured by kWh per person per year (1965-2022) broken out by country and energy source. This data was originally sourced from the U.S. Energy Information Administration, Energy Institute Statistical Review of World Energy, Gapminder (v7), United Nations, World Population Prospects, HYDE (v3.2), Gapminder (Systema Globalis). Using five decades of energy data should provide a nice historical sample to begin investigating answers to our questions.\n",
        "\n",
        "### Analysis\n",
        "To analyze the data, we used Python to read in our dataset, clean the data, and visualize the data to make comparisons. Below is the source code along with an explanation of steps taken and interpretations of the results.\n",
        "\n"
      ]
    },
    {
      "cell_type": "code",
      "execution_count": 1,
      "metadata": {
        "id": "VpdfOSN2_VYb"
      },
      "outputs": [],
      "source": [
        "import pandas as pd\n",
        "import numpy as np\n",
        "import plotly.express as px\n",
        "import plotly.graph_objects as go\n",
        "from plotly.subplots import make_subplots\n",
        "\n",
        "# If using Jupyter in VSC:\n",
        "# import plotly.io as pio\n",
        "# pio.renderers.default='notebook'\n"
      ]
    },
    {
      "cell_type": "markdown",
      "metadata": {
        "id": "04aHRv62LamT"
      },
      "source": [
        "#### Cleaning the Data\n",
        "\n",
        "After downloading the dataset, we cleaned the data to prepare it for analysis. This included renaming the column headers for improved readability and aggregating the data into two categories, renewable and non-renewable energy sources. We also calculated total energy consumption for each category as well as an overall total of energy consumption to create a plot for comparison."
      ]
    },
    {
      "cell_type": "code",
      "execution_count": 2,
      "metadata": {
        "colab": {
          "base_uri": "https://localhost:8080/"
        },
        "id": "Q_4k_cRC_VYc",
        "outputId": "257f90ee-dd0b-4d75-8c0e-a88eb7c76c77"
      },
      "outputs": [
        {
          "data": {
            "text/html": [
              "<div>\n",
              "<style scoped>\n",
              "    .dataframe tbody tr th:only-of-type {\n",
              "        vertical-align: middle;\n",
              "    }\n",
              "\n",
              "    .dataframe tbody tr th {\n",
              "        vertical-align: top;\n",
              "    }\n",
              "\n",
              "    .dataframe thead th {\n",
              "        text-align: right;\n",
              "    }\n",
              "</style>\n",
              "<table border=\"1\" class=\"dataframe\">\n",
              "  <thead>\n",
              "    <tr style=\"text-align: right;\">\n",
              "      <th></th>\n",
              "      <th>Entity</th>\n",
              "      <th>Year</th>\n",
              "      <th>CoalPerCap</th>\n",
              "      <th>OilPerCap</th>\n",
              "      <th>GasPerCap</th>\n",
              "      <th>NuclearPerCap</th>\n",
              "      <th>HydroPerCap</th>\n",
              "      <th>WindPerCap</th>\n",
              "      <th>SolarPerCap</th>\n",
              "      <th>OtherRenewablesPerCap</th>\n",
              "    </tr>\n",
              "  </thead>\n",
              "  <tbody>\n",
              "    <tr>\n",
              "      <th>0</th>\n",
              "      <td>Africa</td>\n",
              "      <td>1965</td>\n",
              "      <td>1006.3736</td>\n",
              "      <td>1064.3536</td>\n",
              "      <td>29.777592</td>\n",
              "      <td>0.0</td>\n",
              "      <td>127.91771</td>\n",
              "      <td>0.0</td>\n",
              "      <td>0.0</td>\n",
              "      <td>0.0</td>\n",
              "    </tr>\n",
              "    <tr>\n",
              "      <th>1</th>\n",
              "      <td>Africa</td>\n",
              "      <td>1966</td>\n",
              "      <td>980.1728</td>\n",
              "      <td>1123.7390</td>\n",
              "      <td>32.452050</td>\n",
              "      <td>0.0</td>\n",
              "      <td>139.12254</td>\n",
              "      <td>0.0</td>\n",
              "      <td>0.0</td>\n",
              "      <td>0.0</td>\n",
              "    </tr>\n",
              "  </tbody>\n",
              "</table>\n",
              "</div>"
            ],
            "text/plain": [
              "   Entity  Year  CoalPerCap  OilPerCap  GasPerCap  NuclearPerCap  HydroPerCap  \\\n",
              "0  Africa  1965   1006.3736  1064.3536  29.777592            0.0    127.91771   \n",
              "1  Africa  1966    980.1728  1123.7390  32.452050            0.0    139.12254   \n",
              "\n",
              "   WindPerCap  SolarPerCap  OtherRenewablesPerCap  \n",
              "0         0.0          0.0                    0.0  \n",
              "1         0.0          0.0                    0.0  "
            ]
          },
          "execution_count": 2,
          "metadata": {},
          "output_type": "execute_result"
        }
      ],
      "source": [
        "#Get data\n",
        "energyDF = pd.read_csv('https://docs.google.com/spreadsheets/d/e/2PACX-1vSKFSOeC0K8NxNq_0ILnFa8bQguWi8QZopcNYLXLpc5NbXCffx5TV5rmPhSjnaT4aa0hoYlbXwoBY53/pub?gid=970132790&single=true&output=csv',\n",
        "                    header = 0)\n",
        "\n",
        "#Note: the __PerCap is measured in kWh or kWh equivelants\n",
        "energyDF.rename(columns={'Entity':'Entity', 'Code':'EntCode', 'Year':'Year', 'Coal per capita (kWh)':'CoalPerCap',\n",
        "       'Oil per capita (kWh)':'OilPerCap', 'Gas per capita (kWh)':'GasPerCap',\n",
        "       'Nuclear per capita (kWh - equivalent)':'NuclearPerCap',\n",
        "       'Hydro per capita (kWh - equivalent)':'HydroPerCap',\n",
        "       'Wind per capita (kWh - equivalent)':'WindPerCap',\n",
        "       'Solar per capita (kWh - equivalent)':'SolarPerCap',\n",
        "       'Other renewables per capita (kWh - equivalent)':'OtherRenewablesPerCap'}, inplace=True)\n",
        "\n",
        "energyDF.drop('EntCode', axis=1, inplace=True)\n",
        "energyDF = energyDF.fillna(0)\n",
        "\n",
        "renewables = ['NuclearPerCap', 'HydroPerCap', 'WindPerCap', 'SolarPerCap','OtherRenewablesPerCap']\n",
        "nonrenewables = ['CoalPerCap', 'OilPerCap', 'GasPerCap']\n",
        "\n",
        "energyDF.head(2)"
      ]
    },
    {
      "cell_type": "code",
      "execution_count": 3,
      "metadata": {
        "colab": {
          "base_uri": "https://localhost:8080/",
          "height": 226
        },
        "id": "xlNz5lAg_VYc",
        "outputId": "c089e0ac-cf38-4a32-82f2-e392bd3b8b43"
      },
      "outputs": [
        {
          "data": {
            "text/html": [
              "<div>\n",
              "<style scoped>\n",
              "    .dataframe tbody tr th:only-of-type {\n",
              "        vertical-align: middle;\n",
              "    }\n",
              "\n",
              "    .dataframe tbody tr th {\n",
              "        vertical-align: top;\n",
              "    }\n",
              "\n",
              "    .dataframe thead th {\n",
              "        text-align: right;\n",
              "    }\n",
              "</style>\n",
              "<table border=\"1\" class=\"dataframe\">\n",
              "  <thead>\n",
              "    <tr style=\"text-align: right;\">\n",
              "      <th></th>\n",
              "      <th>Entity</th>\n",
              "      <th>Year</th>\n",
              "      <th>CoalPerCap</th>\n",
              "      <th>OilPerCap</th>\n",
              "      <th>GasPerCap</th>\n",
              "      <th>NuclearPerCap</th>\n",
              "      <th>HydroPerCap</th>\n",
              "      <th>WindPerCap</th>\n",
              "      <th>SolarPerCap</th>\n",
              "      <th>OtherRenewablesPerCap</th>\n",
              "      <th>TotalEnerygyPerCap</th>\n",
              "      <th>TotalNonRenewablePerCap</th>\n",
              "      <th>TotalRenewablePerCap</th>\n",
              "    </tr>\n",
              "  </thead>\n",
              "  <tbody>\n",
              "    <tr>\n",
              "      <th>0</th>\n",
              "      <td>Africa</td>\n",
              "      <td>1965</td>\n",
              "      <td>1006.37360</td>\n",
              "      <td>1064.3536</td>\n",
              "      <td>29.777592</td>\n",
              "      <td>0.0</td>\n",
              "      <td>127.91771</td>\n",
              "      <td>0.0</td>\n",
              "      <td>0.0</td>\n",
              "      <td>0.0</td>\n",
              "      <td>2228.422502</td>\n",
              "      <td>2100.504792</td>\n",
              "      <td>127.91771</td>\n",
              "    </tr>\n",
              "    <tr>\n",
              "      <th>1</th>\n",
              "      <td>Africa</td>\n",
              "      <td>1966</td>\n",
              "      <td>980.17280</td>\n",
              "      <td>1123.7390</td>\n",
              "      <td>32.452050</td>\n",
              "      <td>0.0</td>\n",
              "      <td>139.12254</td>\n",
              "      <td>0.0</td>\n",
              "      <td>0.0</td>\n",
              "      <td>0.0</td>\n",
              "      <td>2275.486390</td>\n",
              "      <td>2136.363850</td>\n",
              "      <td>139.12254</td>\n",
              "    </tr>\n",
              "    <tr>\n",
              "      <th>2</th>\n",
              "      <td>Africa</td>\n",
              "      <td>1967</td>\n",
              "      <td>976.73170</td>\n",
              "      <td>1091.7719</td>\n",
              "      <td>31.268766</td>\n",
              "      <td>0.0</td>\n",
              "      <td>141.57660</td>\n",
              "      <td>0.0</td>\n",
              "      <td>0.0</td>\n",
              "      <td>0.0</td>\n",
              "      <td>2241.348966</td>\n",
              "      <td>2099.772366</td>\n",
              "      <td>141.57660</td>\n",
              "    </tr>\n",
              "    <tr>\n",
              "      <th>3</th>\n",
              "      <td>Africa</td>\n",
              "      <td>1968</td>\n",
              "      <td>990.00665</td>\n",
              "      <td>1125.0367</td>\n",
              "      <td>30.886887</td>\n",
              "      <td>0.0</td>\n",
              "      <td>161.39375</td>\n",
              "      <td>0.0</td>\n",
              "      <td>0.0</td>\n",
              "      <td>0.0</td>\n",
              "      <td>2307.323987</td>\n",
              "      <td>2145.930237</td>\n",
              "      <td>161.39375</td>\n",
              "    </tr>\n",
              "    <tr>\n",
              "      <th>4</th>\n",
              "      <td>Africa</td>\n",
              "      <td>1969</td>\n",
              "      <td>973.52277</td>\n",
              "      <td>1118.1862</td>\n",
              "      <td>35.162052</td>\n",
              "      <td>0.0</td>\n",
              "      <td>183.53688</td>\n",
              "      <td>0.0</td>\n",
              "      <td>0.0</td>\n",
              "      <td>0.0</td>\n",
              "      <td>2310.407902</td>\n",
              "      <td>2126.871022</td>\n",
              "      <td>183.53688</td>\n",
              "    </tr>\n",
              "  </tbody>\n",
              "</table>\n",
              "</div>"
            ],
            "text/plain": [
              "   Entity  Year  CoalPerCap  OilPerCap  GasPerCap  NuclearPerCap  HydroPerCap  \\\n",
              "0  Africa  1965  1006.37360  1064.3536  29.777592            0.0    127.91771   \n",
              "1  Africa  1966   980.17280  1123.7390  32.452050            0.0    139.12254   \n",
              "2  Africa  1967   976.73170  1091.7719  31.268766            0.0    141.57660   \n",
              "3  Africa  1968   990.00665  1125.0367  30.886887            0.0    161.39375   \n",
              "4  Africa  1969   973.52277  1118.1862  35.162052            0.0    183.53688   \n",
              "\n",
              "   WindPerCap  SolarPerCap  OtherRenewablesPerCap  TotalEnerygyPerCap  \\\n",
              "0         0.0          0.0                    0.0         2228.422502   \n",
              "1         0.0          0.0                    0.0         2275.486390   \n",
              "2         0.0          0.0                    0.0         2241.348966   \n",
              "3         0.0          0.0                    0.0         2307.323987   \n",
              "4         0.0          0.0                    0.0         2310.407902   \n",
              "\n",
              "   TotalNonRenewablePerCap  TotalRenewablePerCap  \n",
              "0              2100.504792             127.91771  \n",
              "1              2136.363850             139.12254  \n",
              "2              2099.772366             141.57660  \n",
              "3              2145.930237             161.39375  \n",
              "4              2126.871022             183.53688  "
            ]
          },
          "execution_count": 3,
          "metadata": {},
          "output_type": "execute_result"
        }
      ],
      "source": [
        "energyDF['TotalEnerygyPerCap'] = energyDF[renewables].sum(axis=1) + energyDF[nonrenewables].sum(axis=1)\n",
        "energyDF['TotalNonRenewablePerCap'] = energyDF[nonrenewables].sum(axis=1)\n",
        "energyDF['TotalRenewablePerCap'] = energyDF[renewables].sum(axis=1)\n",
        "energyDF.head(5)"
      ]
    },
    {
      "cell_type": "markdown",
      "metadata": {
        "id": "vb89SsGEpy6l"
      },
      "source": [
        "To visualize a comparison between renewable and non-renewable energy consumption over the past 50 years, we opted for a stacked bar chart. First we aggregated the data by decade so that the data can fit nicely on a plot."
      ]
    },
    {
      "cell_type": "code",
      "execution_count": 4,
      "metadata": {
        "id": "wapscR6c_VYd"
      },
      "outputs": [],
      "source": [
        "# extract only data from 1970 and after.\n",
        "energyDF = energyDF[energyDF['Year']>=1970]\n",
        "\n",
        "# create a new column containing the decade for each data point\n",
        "energyDF['Decade'] = energyDF['Year'] - (energyDF['Year']%10)\n",
        "\n",
        "# group data by decade\n",
        "df_decade = energyDF.groupby(by=['Decade','Entity']).sum().reset_index()\n",
        "\n",
        "df_decade = df_decade[df_decade['Decade']!=2020]"
      ]
    },
    {
      "cell_type": "markdown",
      "metadata": {
        "id": "A_Q9lmxvqmWi"
      },
      "source": [
        "#### Visualizations\n",
        "\n",
        "With the data restructured for analysis, we then created a stacked bar chart of total world energy consumption per capita per decade for five decades. From the chart we can quickly see that renewable energy consumption has increased over that past 50 years. During the same time period, non-renewable energy consumption decreased in the 80s and 90s, but then increased more than renewable energy consumption did in the 2000s and 2010s."
      ]
    },
    {
      "cell_type": "code",
      "execution_count": 5,
      "metadata": {
        "colab": {
          "base_uri": "https://localhost:8080/",
          "height": 737
        },
        "id": "lT3NPYhM_VYd",
        "outputId": "6b8af891-5281-4bfc-ca24-2697dd91b633"
      },
      "outputs": [
        {
          "data": {
            "application/vnd.plotly.v1+json": {
              "config": {
                "plotlyServerURL": "https://plot.ly"
              },
              "data": [
                {
                  "marker": {
                    "color": "#009e60"
                  },
                  "name": "Reneweable Enerygy",
                  "type": "bar",
                  "x": [
                    1970,
                    1980,
                    1990,
                    2000,
                    2010
                  ],
                  "y": [
                    12.940871760039599,
                    20.097814845388502,
                    24.571718773929998,
                    25.8427331578,
                    29.499473855999998
                  ]
                },
                {
                  "marker": {
                    "color": "#ff6700"
                  },
                  "name": "Non-Renewable Energy",
                  "type": "bar",
                  "x": [
                    1970,
                    1980,
                    1990,
                    2000,
                    2010
                  ],
                  "y": [
                    154.46556410000002,
                    153.7059035,
                    152.2013445,
                    164.2109186,
                    175.2203582
                  ]
                }
              ],
              "layout": {
                "autosize": false,
                "bargap": 0.7,
                "barmode": "stack",
                "height": 700,
                "template": {
                  "data": {
                    "bar": [
                      {
                        "error_x": {
                          "color": "#2a3f5f"
                        },
                        "error_y": {
                          "color": "#2a3f5f"
                        },
                        "marker": {
                          "line": {
                            "color": "#E5ECF6",
                            "width": 0.5
                          },
                          "pattern": {
                            "fillmode": "overlay",
                            "size": 10,
                            "solidity": 0.2
                          }
                        },
                        "type": "bar"
                      }
                    ],
                    "barpolar": [
                      {
                        "marker": {
                          "line": {
                            "color": "#E5ECF6",
                            "width": 0.5
                          },
                          "pattern": {
                            "fillmode": "overlay",
                            "size": 10,
                            "solidity": 0.2
                          }
                        },
                        "type": "barpolar"
                      }
                    ],
                    "carpet": [
                      {
                        "aaxis": {
                          "endlinecolor": "#2a3f5f",
                          "gridcolor": "white",
                          "linecolor": "white",
                          "minorgridcolor": "white",
                          "startlinecolor": "#2a3f5f"
                        },
                        "baxis": {
                          "endlinecolor": "#2a3f5f",
                          "gridcolor": "white",
                          "linecolor": "white",
                          "minorgridcolor": "white",
                          "startlinecolor": "#2a3f5f"
                        },
                        "type": "carpet"
                      }
                    ],
                    "choropleth": [
                      {
                        "colorbar": {
                          "outlinewidth": 0,
                          "ticks": ""
                        },
                        "type": "choropleth"
                      }
                    ],
                    "contour": [
                      {
                        "colorbar": {
                          "outlinewidth": 0,
                          "ticks": ""
                        },
                        "colorscale": [
                          [
                            0,
                            "#0d0887"
                          ],
                          [
                            0.1111111111111111,
                            "#46039f"
                          ],
                          [
                            0.2222222222222222,
                            "#7201a8"
                          ],
                          [
                            0.3333333333333333,
                            "#9c179e"
                          ],
                          [
                            0.4444444444444444,
                            "#bd3786"
                          ],
                          [
                            0.5555555555555556,
                            "#d8576b"
                          ],
                          [
                            0.6666666666666666,
                            "#ed7953"
                          ],
                          [
                            0.7777777777777778,
                            "#fb9f3a"
                          ],
                          [
                            0.8888888888888888,
                            "#fdca26"
                          ],
                          [
                            1,
                            "#f0f921"
                          ]
                        ],
                        "type": "contour"
                      }
                    ],
                    "contourcarpet": [
                      {
                        "colorbar": {
                          "outlinewidth": 0,
                          "ticks": ""
                        },
                        "type": "contourcarpet"
                      }
                    ],
                    "heatmap": [
                      {
                        "colorbar": {
                          "outlinewidth": 0,
                          "ticks": ""
                        },
                        "colorscale": [
                          [
                            0,
                            "#0d0887"
                          ],
                          [
                            0.1111111111111111,
                            "#46039f"
                          ],
                          [
                            0.2222222222222222,
                            "#7201a8"
                          ],
                          [
                            0.3333333333333333,
                            "#9c179e"
                          ],
                          [
                            0.4444444444444444,
                            "#bd3786"
                          ],
                          [
                            0.5555555555555556,
                            "#d8576b"
                          ],
                          [
                            0.6666666666666666,
                            "#ed7953"
                          ],
                          [
                            0.7777777777777778,
                            "#fb9f3a"
                          ],
                          [
                            0.8888888888888888,
                            "#fdca26"
                          ],
                          [
                            1,
                            "#f0f921"
                          ]
                        ],
                        "type": "heatmap"
                      }
                    ],
                    "heatmapgl": [
                      {
                        "colorbar": {
                          "outlinewidth": 0,
                          "ticks": ""
                        },
                        "colorscale": [
                          [
                            0,
                            "#0d0887"
                          ],
                          [
                            0.1111111111111111,
                            "#46039f"
                          ],
                          [
                            0.2222222222222222,
                            "#7201a8"
                          ],
                          [
                            0.3333333333333333,
                            "#9c179e"
                          ],
                          [
                            0.4444444444444444,
                            "#bd3786"
                          ],
                          [
                            0.5555555555555556,
                            "#d8576b"
                          ],
                          [
                            0.6666666666666666,
                            "#ed7953"
                          ],
                          [
                            0.7777777777777778,
                            "#fb9f3a"
                          ],
                          [
                            0.8888888888888888,
                            "#fdca26"
                          ],
                          [
                            1,
                            "#f0f921"
                          ]
                        ],
                        "type": "heatmapgl"
                      }
                    ],
                    "histogram": [
                      {
                        "marker": {
                          "pattern": {
                            "fillmode": "overlay",
                            "size": 10,
                            "solidity": 0.2
                          }
                        },
                        "type": "histogram"
                      }
                    ],
                    "histogram2d": [
                      {
                        "colorbar": {
                          "outlinewidth": 0,
                          "ticks": ""
                        },
                        "colorscale": [
                          [
                            0,
                            "#0d0887"
                          ],
                          [
                            0.1111111111111111,
                            "#46039f"
                          ],
                          [
                            0.2222222222222222,
                            "#7201a8"
                          ],
                          [
                            0.3333333333333333,
                            "#9c179e"
                          ],
                          [
                            0.4444444444444444,
                            "#bd3786"
                          ],
                          [
                            0.5555555555555556,
                            "#d8576b"
                          ],
                          [
                            0.6666666666666666,
                            "#ed7953"
                          ],
                          [
                            0.7777777777777778,
                            "#fb9f3a"
                          ],
                          [
                            0.8888888888888888,
                            "#fdca26"
                          ],
                          [
                            1,
                            "#f0f921"
                          ]
                        ],
                        "type": "histogram2d"
                      }
                    ],
                    "histogram2dcontour": [
                      {
                        "colorbar": {
                          "outlinewidth": 0,
                          "ticks": ""
                        },
                        "colorscale": [
                          [
                            0,
                            "#0d0887"
                          ],
                          [
                            0.1111111111111111,
                            "#46039f"
                          ],
                          [
                            0.2222222222222222,
                            "#7201a8"
                          ],
                          [
                            0.3333333333333333,
                            "#9c179e"
                          ],
                          [
                            0.4444444444444444,
                            "#bd3786"
                          ],
                          [
                            0.5555555555555556,
                            "#d8576b"
                          ],
                          [
                            0.6666666666666666,
                            "#ed7953"
                          ],
                          [
                            0.7777777777777778,
                            "#fb9f3a"
                          ],
                          [
                            0.8888888888888888,
                            "#fdca26"
                          ],
                          [
                            1,
                            "#f0f921"
                          ]
                        ],
                        "type": "histogram2dcontour"
                      }
                    ],
                    "mesh3d": [
                      {
                        "colorbar": {
                          "outlinewidth": 0,
                          "ticks": ""
                        },
                        "type": "mesh3d"
                      }
                    ],
                    "parcoords": [
                      {
                        "line": {
                          "colorbar": {
                            "outlinewidth": 0,
                            "ticks": ""
                          }
                        },
                        "type": "parcoords"
                      }
                    ],
                    "pie": [
                      {
                        "automargin": true,
                        "type": "pie"
                      }
                    ],
                    "scatter": [
                      {
                        "fillpattern": {
                          "fillmode": "overlay",
                          "size": 10,
                          "solidity": 0.2
                        },
                        "type": "scatter"
                      }
                    ],
                    "scatter3d": [
                      {
                        "line": {
                          "colorbar": {
                            "outlinewidth": 0,
                            "ticks": ""
                          }
                        },
                        "marker": {
                          "colorbar": {
                            "outlinewidth": 0,
                            "ticks": ""
                          }
                        },
                        "type": "scatter3d"
                      }
                    ],
                    "scattercarpet": [
                      {
                        "marker": {
                          "colorbar": {
                            "outlinewidth": 0,
                            "ticks": ""
                          }
                        },
                        "type": "scattercarpet"
                      }
                    ],
                    "scattergeo": [
                      {
                        "marker": {
                          "colorbar": {
                            "outlinewidth": 0,
                            "ticks": ""
                          }
                        },
                        "type": "scattergeo"
                      }
                    ],
                    "scattergl": [
                      {
                        "marker": {
                          "colorbar": {
                            "outlinewidth": 0,
                            "ticks": ""
                          }
                        },
                        "type": "scattergl"
                      }
                    ],
                    "scattermapbox": [
                      {
                        "marker": {
                          "colorbar": {
                            "outlinewidth": 0,
                            "ticks": ""
                          }
                        },
                        "type": "scattermapbox"
                      }
                    ],
                    "scatterpolar": [
                      {
                        "marker": {
                          "colorbar": {
                            "outlinewidth": 0,
                            "ticks": ""
                          }
                        },
                        "type": "scatterpolar"
                      }
                    ],
                    "scatterpolargl": [
                      {
                        "marker": {
                          "colorbar": {
                            "outlinewidth": 0,
                            "ticks": ""
                          }
                        },
                        "type": "scatterpolargl"
                      }
                    ],
                    "scatterternary": [
                      {
                        "marker": {
                          "colorbar": {
                            "outlinewidth": 0,
                            "ticks": ""
                          }
                        },
                        "type": "scatterternary"
                      }
                    ],
                    "surface": [
                      {
                        "colorbar": {
                          "outlinewidth": 0,
                          "ticks": ""
                        },
                        "colorscale": [
                          [
                            0,
                            "#0d0887"
                          ],
                          [
                            0.1111111111111111,
                            "#46039f"
                          ],
                          [
                            0.2222222222222222,
                            "#7201a8"
                          ],
                          [
                            0.3333333333333333,
                            "#9c179e"
                          ],
                          [
                            0.4444444444444444,
                            "#bd3786"
                          ],
                          [
                            0.5555555555555556,
                            "#d8576b"
                          ],
                          [
                            0.6666666666666666,
                            "#ed7953"
                          ],
                          [
                            0.7777777777777778,
                            "#fb9f3a"
                          ],
                          [
                            0.8888888888888888,
                            "#fdca26"
                          ],
                          [
                            1,
                            "#f0f921"
                          ]
                        ],
                        "type": "surface"
                      }
                    ],
                    "table": [
                      {
                        "cells": {
                          "fill": {
                            "color": "#EBF0F8"
                          },
                          "line": {
                            "color": "white"
                          }
                        },
                        "header": {
                          "fill": {
                            "color": "#C8D4E3"
                          },
                          "line": {
                            "color": "white"
                          }
                        },
                        "type": "table"
                      }
                    ]
                  },
                  "layout": {
                    "annotationdefaults": {
                      "arrowcolor": "#2a3f5f",
                      "arrowhead": 0,
                      "arrowwidth": 1
                    },
                    "autotypenumbers": "strict",
                    "coloraxis": {
                      "colorbar": {
                        "outlinewidth": 0,
                        "ticks": ""
                      }
                    },
                    "colorscale": {
                      "diverging": [
                        [
                          0,
                          "#8e0152"
                        ],
                        [
                          0.1,
                          "#c51b7d"
                        ],
                        [
                          0.2,
                          "#de77ae"
                        ],
                        [
                          0.3,
                          "#f1b6da"
                        ],
                        [
                          0.4,
                          "#fde0ef"
                        ],
                        [
                          0.5,
                          "#f7f7f7"
                        ],
                        [
                          0.6,
                          "#e6f5d0"
                        ],
                        [
                          0.7,
                          "#b8e186"
                        ],
                        [
                          0.8,
                          "#7fbc41"
                        ],
                        [
                          0.9,
                          "#4d9221"
                        ],
                        [
                          1,
                          "#276419"
                        ]
                      ],
                      "sequential": [
                        [
                          0,
                          "#0d0887"
                        ],
                        [
                          0.1111111111111111,
                          "#46039f"
                        ],
                        [
                          0.2222222222222222,
                          "#7201a8"
                        ],
                        [
                          0.3333333333333333,
                          "#9c179e"
                        ],
                        [
                          0.4444444444444444,
                          "#bd3786"
                        ],
                        [
                          0.5555555555555556,
                          "#d8576b"
                        ],
                        [
                          0.6666666666666666,
                          "#ed7953"
                        ],
                        [
                          0.7777777777777778,
                          "#fb9f3a"
                        ],
                        [
                          0.8888888888888888,
                          "#fdca26"
                        ],
                        [
                          1,
                          "#f0f921"
                        ]
                      ],
                      "sequentialminus": [
                        [
                          0,
                          "#0d0887"
                        ],
                        [
                          0.1111111111111111,
                          "#46039f"
                        ],
                        [
                          0.2222222222222222,
                          "#7201a8"
                        ],
                        [
                          0.3333333333333333,
                          "#9c179e"
                        ],
                        [
                          0.4444444444444444,
                          "#bd3786"
                        ],
                        [
                          0.5555555555555556,
                          "#d8576b"
                        ],
                        [
                          0.6666666666666666,
                          "#ed7953"
                        ],
                        [
                          0.7777777777777778,
                          "#fb9f3a"
                        ],
                        [
                          0.8888888888888888,
                          "#fdca26"
                        ],
                        [
                          1,
                          "#f0f921"
                        ]
                      ]
                    },
                    "colorway": [
                      "#636efa",
                      "#EF553B",
                      "#00cc96",
                      "#ab63fa",
                      "#FFA15A",
                      "#19d3f3",
                      "#FF6692",
                      "#B6E880",
                      "#FF97FF",
                      "#FECB52"
                    ],
                    "font": {
                      "color": "#2a3f5f"
                    },
                    "geo": {
                      "bgcolor": "white",
                      "lakecolor": "white",
                      "landcolor": "#E5ECF6",
                      "showlakes": true,
                      "showland": true,
                      "subunitcolor": "white"
                    },
                    "hoverlabel": {
                      "align": "left"
                    },
                    "hovermode": "closest",
                    "mapbox": {
                      "style": "light"
                    },
                    "paper_bgcolor": "white",
                    "plot_bgcolor": "#E5ECF6",
                    "polar": {
                      "angularaxis": {
                        "gridcolor": "white",
                        "linecolor": "white",
                        "ticks": ""
                      },
                      "bgcolor": "#E5ECF6",
                      "radialaxis": {
                        "gridcolor": "white",
                        "linecolor": "white",
                        "ticks": ""
                      }
                    },
                    "scene": {
                      "xaxis": {
                        "backgroundcolor": "#E5ECF6",
                        "gridcolor": "white",
                        "gridwidth": 2,
                        "linecolor": "white",
                        "showbackground": true,
                        "ticks": "",
                        "zerolinecolor": "white"
                      },
                      "yaxis": {
                        "backgroundcolor": "#E5ECF6",
                        "gridcolor": "white",
                        "gridwidth": 2,
                        "linecolor": "white",
                        "showbackground": true,
                        "ticks": "",
                        "zerolinecolor": "white"
                      },
                      "zaxis": {
                        "backgroundcolor": "#E5ECF6",
                        "gridcolor": "white",
                        "gridwidth": 2,
                        "linecolor": "white",
                        "showbackground": true,
                        "ticks": "",
                        "zerolinecolor": "white"
                      }
                    },
                    "shapedefaults": {
                      "line": {
                        "color": "#2a3f5f"
                      }
                    },
                    "ternary": {
                      "aaxis": {
                        "gridcolor": "white",
                        "linecolor": "white",
                        "ticks": ""
                      },
                      "baxis": {
                        "gridcolor": "white",
                        "linecolor": "white",
                        "ticks": ""
                      },
                      "bgcolor": "#E5ECF6",
                      "caxis": {
                        "gridcolor": "white",
                        "linecolor": "white",
                        "ticks": ""
                      }
                    },
                    "title": {
                      "x": 0.05
                    },
                    "xaxis": {
                      "automargin": true,
                      "gridcolor": "white",
                      "linecolor": "white",
                      "ticks": "",
                      "title": {
                        "standoff": 15
                      },
                      "zerolinecolor": "white",
                      "zerolinewidth": 2
                    },
                    "yaxis": {
                      "automargin": true,
                      "gridcolor": "white",
                      "linecolor": "white",
                      "ticks": "",
                      "title": {
                        "standoff": 15
                      },
                      "zerolinecolor": "white",
                      "zerolinewidth": 2
                    }
                  }
                },
                "title": {
                  "text": "World Per Capita Energy Consumption and Source Over the Past 5 Decades"
                },
                "width": 1000,
                "xaxis": {
                  "title": {
                    "text": "Decade"
                  }
                },
                "yaxis": {
                  "title": {
                    "text": "Energy Consumption Per Cap (MWh)"
                  }
                }
              }
            }
          },
          "metadata": {},
          "output_type": "display_data"
        }
      ],
      "source": [
        "# Total world energy consumption (Renewable vs Non-Renewable), bar chart\n",
        "\n",
        "# Create a new datafram with only 'World' values and sort by decade.\n",
        "df_world = df_decade[df_decade['Entity']=='World']\n",
        "df_world = df_world.sort_values(by='Decade')\n",
        "\n",
        "# Create a customized plot to compare renewable vs. non-renewable consumption\n",
        "fig = go.Figure()\n",
        "\n",
        "# fig.add_trace(go.Scatter(x=df_world['Decade'].sort_values(),\n",
        "#                          y=df_world['TotalEnerygyPerCap']/1000,\n",
        "#                          name='Total Energy',\n",
        "#                          marker=dict(color='black', size=8),\n",
        "#                          line=dict(width=3)\n",
        "#                          ))\n",
        "\n",
        "fig.add_trace(go.Bar(x=df_world['Decade'].sort_values(),\n",
        "                     y=df_world['TotalRenewablePerCap']/1000, #convert to MWh\n",
        "                     name='Reneweable Enerygy',\n",
        "                     marker=dict(color='#009e60')\n",
        "                     ))\n",
        "\n",
        "fig.add_trace(go.Bar(x=df_world['Decade'].sort_values(),\n",
        "                     y=df_world['TotalNonRenewablePerCap']/1000, #convert to MWh\n",
        "                     name='Non-Renewable Energy',\n",
        "                     marker=dict(color='#ff6700')\n",
        "                     ))\n",
        "\n",
        "fig.update_layout(autosize=False,\n",
        "                  width=1000,\n",
        "                  height=700,\n",
        "                  barmode='stack',\n",
        "                  bargap=0.7,\n",
        "                  xaxis_title=dict(text='Decade'),\n",
        "                  yaxis_title=dict(text='Energy Consumption Per Cap (MWh)'),\n",
        "                  title=dict(text='World Per Capita Energy Consumption and Source Over the Past 5 Decades'))\n",
        "\n",
        "fig.show()"
      ]
    },
    {
      "cell_type": "markdown",
      "metadata": {
        "id": "MDe_Rwqvr5CJ"
      },
      "source": [
        "We also looked at data from the United States. The United States is one of the largest energy users in the world, so we wanted to see what energy sources make up this consumption and if renewable energy usage is increasing or decreasing. This is important because climate change is accelerating and where energy is sourced impacts the outcome of the next few decades.\n",
        "\n",
        "What we see from the bar chart is that the United States uses less energy per capita in this decade than in the previous four decades. Additionally, the United States is using less non-renewable energy than in the 1970s and has increased renewable energy consumption over the years. However, the per capita energy consumption is still significantly larger than what we saw globally at around 800 MWh vs. ~200 MWh.\n",
        "\n",
        "It's important to note that the total global consumption we saw in the first chart includes the United States. It would be a better comparison to see how the United States compares to the rest of the world."
      ]
    },
    {
      "cell_type": "code",
      "execution_count": 6,
      "metadata": {
        "colab": {
          "base_uri": "https://localhost:8080/",
          "height": 737
        },
        "id": "pRCS9u2U_VYe",
        "outputId": "40e89b09-2643-4089-9321-50ed0f01ebb9"
      },
      "outputs": [
        {
          "data": {
            "application/vnd.plotly.v1+json": {
              "config": {
                "plotlyServerURL": "https://plot.ly"
              },
              "data": [
                {
                  "marker": {
                    "color": "#009e60"
                  },
                  "name": "Reneweable Enerygy",
                  "type": "bar",
                  "x": [
                    1970,
                    1980,
                    1990,
                    2000,
                    2010
                  ],
                  "y": [
                    62.608169679999996,
                    88.49091883012801,
                    114.6624311626,
                    112.2304289269,
                    117.841285846
                  ]
                },
                {
                  "marker": {
                    "color": "#ff6700"
                  },
                  "name": "Non-Renewable Energy",
                  "type": "bar",
                  "x": [
                    1970,
                    1980,
                    1990,
                    2000,
                    2010
                  ],
                  "y": [
                    887.804228,
                    791.2814649999999,
                    799.950926,
                    778.928306,
                    672.849773
                  ]
                }
              ],
              "layout": {
                "autosize": false,
                "bargap": 0.7,
                "barmode": "stack",
                "height": 700,
                "template": {
                  "data": {
                    "bar": [
                      {
                        "error_x": {
                          "color": "#2a3f5f"
                        },
                        "error_y": {
                          "color": "#2a3f5f"
                        },
                        "marker": {
                          "line": {
                            "color": "#E5ECF6",
                            "width": 0.5
                          },
                          "pattern": {
                            "fillmode": "overlay",
                            "size": 10,
                            "solidity": 0.2
                          }
                        },
                        "type": "bar"
                      }
                    ],
                    "barpolar": [
                      {
                        "marker": {
                          "line": {
                            "color": "#E5ECF6",
                            "width": 0.5
                          },
                          "pattern": {
                            "fillmode": "overlay",
                            "size": 10,
                            "solidity": 0.2
                          }
                        },
                        "type": "barpolar"
                      }
                    ],
                    "carpet": [
                      {
                        "aaxis": {
                          "endlinecolor": "#2a3f5f",
                          "gridcolor": "white",
                          "linecolor": "white",
                          "minorgridcolor": "white",
                          "startlinecolor": "#2a3f5f"
                        },
                        "baxis": {
                          "endlinecolor": "#2a3f5f",
                          "gridcolor": "white",
                          "linecolor": "white",
                          "minorgridcolor": "white",
                          "startlinecolor": "#2a3f5f"
                        },
                        "type": "carpet"
                      }
                    ],
                    "choropleth": [
                      {
                        "colorbar": {
                          "outlinewidth": 0,
                          "ticks": ""
                        },
                        "type": "choropleth"
                      }
                    ],
                    "contour": [
                      {
                        "colorbar": {
                          "outlinewidth": 0,
                          "ticks": ""
                        },
                        "colorscale": [
                          [
                            0,
                            "#0d0887"
                          ],
                          [
                            0.1111111111111111,
                            "#46039f"
                          ],
                          [
                            0.2222222222222222,
                            "#7201a8"
                          ],
                          [
                            0.3333333333333333,
                            "#9c179e"
                          ],
                          [
                            0.4444444444444444,
                            "#bd3786"
                          ],
                          [
                            0.5555555555555556,
                            "#d8576b"
                          ],
                          [
                            0.6666666666666666,
                            "#ed7953"
                          ],
                          [
                            0.7777777777777778,
                            "#fb9f3a"
                          ],
                          [
                            0.8888888888888888,
                            "#fdca26"
                          ],
                          [
                            1,
                            "#f0f921"
                          ]
                        ],
                        "type": "contour"
                      }
                    ],
                    "contourcarpet": [
                      {
                        "colorbar": {
                          "outlinewidth": 0,
                          "ticks": ""
                        },
                        "type": "contourcarpet"
                      }
                    ],
                    "heatmap": [
                      {
                        "colorbar": {
                          "outlinewidth": 0,
                          "ticks": ""
                        },
                        "colorscale": [
                          [
                            0,
                            "#0d0887"
                          ],
                          [
                            0.1111111111111111,
                            "#46039f"
                          ],
                          [
                            0.2222222222222222,
                            "#7201a8"
                          ],
                          [
                            0.3333333333333333,
                            "#9c179e"
                          ],
                          [
                            0.4444444444444444,
                            "#bd3786"
                          ],
                          [
                            0.5555555555555556,
                            "#d8576b"
                          ],
                          [
                            0.6666666666666666,
                            "#ed7953"
                          ],
                          [
                            0.7777777777777778,
                            "#fb9f3a"
                          ],
                          [
                            0.8888888888888888,
                            "#fdca26"
                          ],
                          [
                            1,
                            "#f0f921"
                          ]
                        ],
                        "type": "heatmap"
                      }
                    ],
                    "heatmapgl": [
                      {
                        "colorbar": {
                          "outlinewidth": 0,
                          "ticks": ""
                        },
                        "colorscale": [
                          [
                            0,
                            "#0d0887"
                          ],
                          [
                            0.1111111111111111,
                            "#46039f"
                          ],
                          [
                            0.2222222222222222,
                            "#7201a8"
                          ],
                          [
                            0.3333333333333333,
                            "#9c179e"
                          ],
                          [
                            0.4444444444444444,
                            "#bd3786"
                          ],
                          [
                            0.5555555555555556,
                            "#d8576b"
                          ],
                          [
                            0.6666666666666666,
                            "#ed7953"
                          ],
                          [
                            0.7777777777777778,
                            "#fb9f3a"
                          ],
                          [
                            0.8888888888888888,
                            "#fdca26"
                          ],
                          [
                            1,
                            "#f0f921"
                          ]
                        ],
                        "type": "heatmapgl"
                      }
                    ],
                    "histogram": [
                      {
                        "marker": {
                          "pattern": {
                            "fillmode": "overlay",
                            "size": 10,
                            "solidity": 0.2
                          }
                        },
                        "type": "histogram"
                      }
                    ],
                    "histogram2d": [
                      {
                        "colorbar": {
                          "outlinewidth": 0,
                          "ticks": ""
                        },
                        "colorscale": [
                          [
                            0,
                            "#0d0887"
                          ],
                          [
                            0.1111111111111111,
                            "#46039f"
                          ],
                          [
                            0.2222222222222222,
                            "#7201a8"
                          ],
                          [
                            0.3333333333333333,
                            "#9c179e"
                          ],
                          [
                            0.4444444444444444,
                            "#bd3786"
                          ],
                          [
                            0.5555555555555556,
                            "#d8576b"
                          ],
                          [
                            0.6666666666666666,
                            "#ed7953"
                          ],
                          [
                            0.7777777777777778,
                            "#fb9f3a"
                          ],
                          [
                            0.8888888888888888,
                            "#fdca26"
                          ],
                          [
                            1,
                            "#f0f921"
                          ]
                        ],
                        "type": "histogram2d"
                      }
                    ],
                    "histogram2dcontour": [
                      {
                        "colorbar": {
                          "outlinewidth": 0,
                          "ticks": ""
                        },
                        "colorscale": [
                          [
                            0,
                            "#0d0887"
                          ],
                          [
                            0.1111111111111111,
                            "#46039f"
                          ],
                          [
                            0.2222222222222222,
                            "#7201a8"
                          ],
                          [
                            0.3333333333333333,
                            "#9c179e"
                          ],
                          [
                            0.4444444444444444,
                            "#bd3786"
                          ],
                          [
                            0.5555555555555556,
                            "#d8576b"
                          ],
                          [
                            0.6666666666666666,
                            "#ed7953"
                          ],
                          [
                            0.7777777777777778,
                            "#fb9f3a"
                          ],
                          [
                            0.8888888888888888,
                            "#fdca26"
                          ],
                          [
                            1,
                            "#f0f921"
                          ]
                        ],
                        "type": "histogram2dcontour"
                      }
                    ],
                    "mesh3d": [
                      {
                        "colorbar": {
                          "outlinewidth": 0,
                          "ticks": ""
                        },
                        "type": "mesh3d"
                      }
                    ],
                    "parcoords": [
                      {
                        "line": {
                          "colorbar": {
                            "outlinewidth": 0,
                            "ticks": ""
                          }
                        },
                        "type": "parcoords"
                      }
                    ],
                    "pie": [
                      {
                        "automargin": true,
                        "type": "pie"
                      }
                    ],
                    "scatter": [
                      {
                        "fillpattern": {
                          "fillmode": "overlay",
                          "size": 10,
                          "solidity": 0.2
                        },
                        "type": "scatter"
                      }
                    ],
                    "scatter3d": [
                      {
                        "line": {
                          "colorbar": {
                            "outlinewidth": 0,
                            "ticks": ""
                          }
                        },
                        "marker": {
                          "colorbar": {
                            "outlinewidth": 0,
                            "ticks": ""
                          }
                        },
                        "type": "scatter3d"
                      }
                    ],
                    "scattercarpet": [
                      {
                        "marker": {
                          "colorbar": {
                            "outlinewidth": 0,
                            "ticks": ""
                          }
                        },
                        "type": "scattercarpet"
                      }
                    ],
                    "scattergeo": [
                      {
                        "marker": {
                          "colorbar": {
                            "outlinewidth": 0,
                            "ticks": ""
                          }
                        },
                        "type": "scattergeo"
                      }
                    ],
                    "scattergl": [
                      {
                        "marker": {
                          "colorbar": {
                            "outlinewidth": 0,
                            "ticks": ""
                          }
                        },
                        "type": "scattergl"
                      }
                    ],
                    "scattermapbox": [
                      {
                        "marker": {
                          "colorbar": {
                            "outlinewidth": 0,
                            "ticks": ""
                          }
                        },
                        "type": "scattermapbox"
                      }
                    ],
                    "scatterpolar": [
                      {
                        "marker": {
                          "colorbar": {
                            "outlinewidth": 0,
                            "ticks": ""
                          }
                        },
                        "type": "scatterpolar"
                      }
                    ],
                    "scatterpolargl": [
                      {
                        "marker": {
                          "colorbar": {
                            "outlinewidth": 0,
                            "ticks": ""
                          }
                        },
                        "type": "scatterpolargl"
                      }
                    ],
                    "scatterternary": [
                      {
                        "marker": {
                          "colorbar": {
                            "outlinewidth": 0,
                            "ticks": ""
                          }
                        },
                        "type": "scatterternary"
                      }
                    ],
                    "surface": [
                      {
                        "colorbar": {
                          "outlinewidth": 0,
                          "ticks": ""
                        },
                        "colorscale": [
                          [
                            0,
                            "#0d0887"
                          ],
                          [
                            0.1111111111111111,
                            "#46039f"
                          ],
                          [
                            0.2222222222222222,
                            "#7201a8"
                          ],
                          [
                            0.3333333333333333,
                            "#9c179e"
                          ],
                          [
                            0.4444444444444444,
                            "#bd3786"
                          ],
                          [
                            0.5555555555555556,
                            "#d8576b"
                          ],
                          [
                            0.6666666666666666,
                            "#ed7953"
                          ],
                          [
                            0.7777777777777778,
                            "#fb9f3a"
                          ],
                          [
                            0.8888888888888888,
                            "#fdca26"
                          ],
                          [
                            1,
                            "#f0f921"
                          ]
                        ],
                        "type": "surface"
                      }
                    ],
                    "table": [
                      {
                        "cells": {
                          "fill": {
                            "color": "#EBF0F8"
                          },
                          "line": {
                            "color": "white"
                          }
                        },
                        "header": {
                          "fill": {
                            "color": "#C8D4E3"
                          },
                          "line": {
                            "color": "white"
                          }
                        },
                        "type": "table"
                      }
                    ]
                  },
                  "layout": {
                    "annotationdefaults": {
                      "arrowcolor": "#2a3f5f",
                      "arrowhead": 0,
                      "arrowwidth": 1
                    },
                    "autotypenumbers": "strict",
                    "coloraxis": {
                      "colorbar": {
                        "outlinewidth": 0,
                        "ticks": ""
                      }
                    },
                    "colorscale": {
                      "diverging": [
                        [
                          0,
                          "#8e0152"
                        ],
                        [
                          0.1,
                          "#c51b7d"
                        ],
                        [
                          0.2,
                          "#de77ae"
                        ],
                        [
                          0.3,
                          "#f1b6da"
                        ],
                        [
                          0.4,
                          "#fde0ef"
                        ],
                        [
                          0.5,
                          "#f7f7f7"
                        ],
                        [
                          0.6,
                          "#e6f5d0"
                        ],
                        [
                          0.7,
                          "#b8e186"
                        ],
                        [
                          0.8,
                          "#7fbc41"
                        ],
                        [
                          0.9,
                          "#4d9221"
                        ],
                        [
                          1,
                          "#276419"
                        ]
                      ],
                      "sequential": [
                        [
                          0,
                          "#0d0887"
                        ],
                        [
                          0.1111111111111111,
                          "#46039f"
                        ],
                        [
                          0.2222222222222222,
                          "#7201a8"
                        ],
                        [
                          0.3333333333333333,
                          "#9c179e"
                        ],
                        [
                          0.4444444444444444,
                          "#bd3786"
                        ],
                        [
                          0.5555555555555556,
                          "#d8576b"
                        ],
                        [
                          0.6666666666666666,
                          "#ed7953"
                        ],
                        [
                          0.7777777777777778,
                          "#fb9f3a"
                        ],
                        [
                          0.8888888888888888,
                          "#fdca26"
                        ],
                        [
                          1,
                          "#f0f921"
                        ]
                      ],
                      "sequentialminus": [
                        [
                          0,
                          "#0d0887"
                        ],
                        [
                          0.1111111111111111,
                          "#46039f"
                        ],
                        [
                          0.2222222222222222,
                          "#7201a8"
                        ],
                        [
                          0.3333333333333333,
                          "#9c179e"
                        ],
                        [
                          0.4444444444444444,
                          "#bd3786"
                        ],
                        [
                          0.5555555555555556,
                          "#d8576b"
                        ],
                        [
                          0.6666666666666666,
                          "#ed7953"
                        ],
                        [
                          0.7777777777777778,
                          "#fb9f3a"
                        ],
                        [
                          0.8888888888888888,
                          "#fdca26"
                        ],
                        [
                          1,
                          "#f0f921"
                        ]
                      ]
                    },
                    "colorway": [
                      "#636efa",
                      "#EF553B",
                      "#00cc96",
                      "#ab63fa",
                      "#FFA15A",
                      "#19d3f3",
                      "#FF6692",
                      "#B6E880",
                      "#FF97FF",
                      "#FECB52"
                    ],
                    "font": {
                      "color": "#2a3f5f"
                    },
                    "geo": {
                      "bgcolor": "white",
                      "lakecolor": "white",
                      "landcolor": "#E5ECF6",
                      "showlakes": true,
                      "showland": true,
                      "subunitcolor": "white"
                    },
                    "hoverlabel": {
                      "align": "left"
                    },
                    "hovermode": "closest",
                    "mapbox": {
                      "style": "light"
                    },
                    "paper_bgcolor": "white",
                    "plot_bgcolor": "#E5ECF6",
                    "polar": {
                      "angularaxis": {
                        "gridcolor": "white",
                        "linecolor": "white",
                        "ticks": ""
                      },
                      "bgcolor": "#E5ECF6",
                      "radialaxis": {
                        "gridcolor": "white",
                        "linecolor": "white",
                        "ticks": ""
                      }
                    },
                    "scene": {
                      "xaxis": {
                        "backgroundcolor": "#E5ECF6",
                        "gridcolor": "white",
                        "gridwidth": 2,
                        "linecolor": "white",
                        "showbackground": true,
                        "ticks": "",
                        "zerolinecolor": "white"
                      },
                      "yaxis": {
                        "backgroundcolor": "#E5ECF6",
                        "gridcolor": "white",
                        "gridwidth": 2,
                        "linecolor": "white",
                        "showbackground": true,
                        "ticks": "",
                        "zerolinecolor": "white"
                      },
                      "zaxis": {
                        "backgroundcolor": "#E5ECF6",
                        "gridcolor": "white",
                        "gridwidth": 2,
                        "linecolor": "white",
                        "showbackground": true,
                        "ticks": "",
                        "zerolinecolor": "white"
                      }
                    },
                    "shapedefaults": {
                      "line": {
                        "color": "#2a3f5f"
                      }
                    },
                    "ternary": {
                      "aaxis": {
                        "gridcolor": "white",
                        "linecolor": "white",
                        "ticks": ""
                      },
                      "baxis": {
                        "gridcolor": "white",
                        "linecolor": "white",
                        "ticks": ""
                      },
                      "bgcolor": "#E5ECF6",
                      "caxis": {
                        "gridcolor": "white",
                        "linecolor": "white",
                        "ticks": ""
                      }
                    },
                    "title": {
                      "x": 0.05
                    },
                    "xaxis": {
                      "automargin": true,
                      "gridcolor": "white",
                      "linecolor": "white",
                      "ticks": "",
                      "title": {
                        "standoff": 15
                      },
                      "zerolinecolor": "white",
                      "zerolinewidth": 2
                    },
                    "yaxis": {
                      "automargin": true,
                      "gridcolor": "white",
                      "linecolor": "white",
                      "ticks": "",
                      "title": {
                        "standoff": 15
                      },
                      "zerolinecolor": "white",
                      "zerolinewidth": 2
                    }
                  }
                },
                "title": {
                  "text": "United States Per Capita Energy Consumption and Source Over the Past 5 Decades"
                },
                "width": 1000,
                "xaxis": {
                  "title": {
                    "text": "Decade"
                  }
                },
                "yaxis": {
                  "title": {
                    "text": "Energy Consumption Per Cap (MWh)"
                  }
                }
              }
            }
          },
          "metadata": {},
          "output_type": "display_data"
        }
      ],
      "source": [
        "# Total USA energy consumption (Renewable vs Non-Renewable), Bar Chart\n",
        "\n",
        "# Create a new datafram with only 'United States' values and sort by decade.\n",
        "df_US = df_decade[df_decade['Entity']=='United States']\n",
        "df_US = df_US.sort_values(by='Decade')\n",
        "\n",
        "# Create a customized plot to compare renewable vs. non-renewable consumption\n",
        "fig = go.Figure()\n",
        "\n",
        "# fig.add_trace(go.Scatter(x=df_US['Decade'].sort_values(),\n",
        "#                          y=df_US['TotalEnerygyPerCap']/1000,\n",
        "#                          name='Total Energy',\n",
        "#                          marker=dict(color='black', size=8),\n",
        "#                          line=dict(width=3)\n",
        "#                          ))\n",
        "\n",
        "fig.add_trace(go.Bar(x=df_US['Decade'].sort_values(),\n",
        "                     y=df_US['TotalRenewablePerCap']/1000,  #convert to MWh\n",
        "                     name='Reneweable Enerygy',\n",
        "                     marker=dict(color='#009e60')\n",
        "                     ))\n",
        "\n",
        "fig.add_trace(go.Bar(x=df_US['Decade'].sort_values(),\n",
        "                     y=df_US['TotalNonRenewablePerCap']/1000, #convert to MWh\n",
        "                     name='Non-Renewable Energy',\n",
        "                     marker=dict(color='#ff6700')\n",
        "                     ))\n",
        "\n",
        "fig.update_layout(autosize=False,\n",
        "                  width=1000,\n",
        "                  height=700,\n",
        "                  barmode='stack',\n",
        "                  bargap=0.7,\n",
        "                  xaxis_title=dict(text='Decade'),\n",
        "                  yaxis_title=dict(text='Energy Consumption Per Cap (MWh)'),\n",
        "                  title=dict(text='United States Per Capita Energy Consumption and Source Over the Past 5 Decades'))\n",
        "\n",
        "fig.show()"
      ]
    },
    {
      "cell_type": "markdown",
      "metadata": {
        "id": "FAR90MZavmjV"
      },
      "source": [
        "Next we looked at regional data...\n",
        "\n",
        "Potentail biases - Regions contain a mix of wealthy and less affluent countries. These dynamics and impacts to the data are not understandable just looking at regional totals...Additional analysis comparing regions that are similiar to each other could provide a more telling story..."
      ]
    },
    {
      "cell_type": "code",
      "execution_count": 7,
      "metadata": {
        "colab": {
          "base_uri": "https://localhost:8080/"
        },
        "id": "_a38Jlh0_VYe",
        "outputId": "c22918d8-a62a-49b8-97e5-2f567e4155ad"
      },
      "outputs": [
        {
          "name": "stderr",
          "output_type": "stream",
          "text": [
            "/var/folders/zx/w0khk41x0xl08sdt7j90tmr80000gn/T/ipykernel_5243/4213121682.py:9: SettingWithCopyWarning:\n",
            "\n",
            "\n",
            "A value is trying to be set on a copy of a slice from a DataFrame.\n",
            "Try using .loc[row_indexer,col_indexer] = value instead\n",
            "\n",
            "See the caveats in the documentation: https://pandas.pydata.org/pandas-docs/stable/user_guide/indexing.html#returning-a-view-versus-a-copy\n",
            "\n",
            "/var/folders/zx/w0khk41x0xl08sdt7j90tmr80000gn/T/ipykernel_5243/4213121682.py:11: SettingWithCopyWarning:\n",
            "\n",
            "\n",
            "A value is trying to be set on a copy of a slice from a DataFrame.\n",
            "Try using .loc[row_indexer,col_indexer] = value instead\n",
            "\n",
            "See the caveats in the documentation: https://pandas.pydata.org/pandas-docs/stable/user_guide/indexing.html#returning-a-view-versus-a-copy\n",
            "\n"
          ]
        }
      ],
      "source": [
        "opec_countries = ['Algeria','Iran','Iraq','Kuwait','Saudi Arabia','United Arab Emirates','Venezuela']\n",
        "\n",
        "us_and_canada = ['United States', 'Canada']\n",
        "\n",
        "region_considered = ['Asia', 'European Union (27)', 'OPEC Countries', 'US & Canada']\n",
        "\n",
        "df_region = df_decade[(df_decade['Entity'].isin(['Asia', 'European Union (27)']+opec_countries+us_and_canada))]\n",
        "\n",
        "df_region['Entity'] = df_region['Entity'].apply(lambda x: 'OPEC' if x in opec_countries else x)\n",
        "\n",
        "df_region['Entity'] = df_region['Entity'].apply(lambda x: 'US & Canada' if x in us_and_canada else x)"
      ]
    },
    {
      "cell_type": "code",
      "execution_count": 8,
      "metadata": {
        "colab": {
          "base_uri": "https://localhost:8080/",
          "height": 937
        },
        "id": "TpgceOWB_VYe",
        "outputId": "daa07c23-6a01-42b0-cc48-3cab151fa4da"
      },
      "outputs": [
        {
          "data": {
            "application/vnd.plotly.v1+json": {
              "config": {
                "plotlyServerURL": "https://plot.ly"
              },
              "data": [
                {
                  "marker": {
                    "color": "#009e60",
                    "line": {
                      "width": 0
                    }
                  },
                  "name": "Reneweable Enerygy",
                  "type": "bar",
                  "x": [
                    1970,
                    1970,
                    1980,
                    1980,
                    1990,
                    1990,
                    2000,
                    2000,
                    2010,
                    2010
                  ],
                  "xaxis": "x",
                  "y": [
                    280.36966511,
                    62.608169679999996,
                    394.038306324055,
                    88.49091883012801,
                    423.50549615155,
                    114.6624311626,
                    401.0359767355,
                    112.2304289269,
                    387.98129719199994,
                    117.841285846
                  ],
                  "yaxis": "y"
                },
                {
                  "marker": {
                    "color": "#ff6700",
                    "line": {
                      "width": 0
                    }
                  },
                  "name": "Non-Renewable Energy",
                  "type": "bar",
                  "x": [
                    1970,
                    1970,
                    1980,
                    1980,
                    1990,
                    1990,
                    2000,
                    2000,
                    2010,
                    2010
                  ],
                  "xaxis": "x",
                  "y": [
                    715.9252614,
                    887.804228,
                    703.896272,
                    791.2814649999999,
                    707.9101085,
                    799.950926,
                    765.251585,
                    778.928306,
                    721.6419162,
                    672.849773
                  ],
                  "yaxis": "y"
                },
                {
                  "marker": {
                    "color": "#009e60",
                    "line": {
                      "width": 0
                    }
                  },
                  "showlegend": false,
                  "type": "bar",
                  "x": [
                    1970,
                    1980,
                    1990,
                    2000,
                    2010
                  ],
                  "xaxis": "x2",
                  "y": [
                    25.569523546835,
                    54.913257010405,
                    77.66232740304001,
                    87.84779953083999,
                    98.05886087
                  ],
                  "yaxis": "y2"
                },
                {
                  "marker": {
                    "color": "#ff6700",
                    "line": {
                      "width": 0
                    }
                  },
                  "showlegend": false,
                  "type": "bar",
                  "x": [
                    1970,
                    1980,
                    1990,
                    2000,
                    2010
                  ],
                  "xaxis": "x2",
                  "y": [
                    341.68783160000004,
                    346.4358068,
                    334.9811728,
                    339.14126319999997,
                    292.3818924
                  ],
                  "yaxis": "y2"
                },
                {
                  "marker": {
                    "color": "#009e60",
                    "line": {
                      "width": 0
                    }
                  },
                  "showlegend": false,
                  "type": "bar",
                  "x": [
                    1970,
                    1980,
                    1990,
                    2000,
                    2010
                  ],
                  "xaxis": "x3",
                  "y": [
                    2.87137010357,
                    5.3214604022000005,
                    7.751956978987801,
                    9.935133093020001,
                    15.666790058499998
                  ],
                  "yaxis": "y3"
                },
                {
                  "marker": {
                    "color": "#ff6700",
                    "line": {
                      "width": 0
                    }
                  },
                  "showlegend": false,
                  "type": "bar",
                  "x": [
                    1970,
                    1980,
                    1990,
                    2000,
                    2010
                  ],
                  "xaxis": "x3",
                  "y": [
                    44.791883652,
                    59.50500433,
                    81.55429855999999,
                    112.3572267,
                    151.5718113
                  ],
                  "yaxis": "y3"
                },
                {
                  "marker": {
                    "color": "#009e60",
                    "line": {
                      "width": 0
                    }
                  },
                  "showlegend": false,
                  "type": "bar",
                  "x": [
                    1970,
                    1970,
                    1970,
                    1970,
                    1970,
                    1970,
                    1970,
                    1980,
                    1980,
                    1980,
                    1980,
                    1980,
                    1980,
                    1980,
                    1990,
                    1990,
                    1990,
                    1990,
                    1990,
                    1990,
                    1990,
                    2000,
                    2000,
                    2000,
                    2000,
                    2000,
                    2000,
                    2000,
                    2010,
                    2010,
                    2010,
                    2010,
                    2010,
                    2010,
                    2010
                  ],
                  "xaxis": "x4",
                  "y": [
                    0.8093091490000001,
                    3.37425854,
                    1.1098590400000001,
                    0,
                    0,
                    0,
                    19.4177049,
                    0.49371653200000004,
                    4.209620950000001,
                    2.217554835,
                    0,
                    0,
                    0,
                    39.0513137,
                    0.2088867044,
                    3.6921284477,
                    7.833699940000001,
                    0,
                    0,
                    0,
                    68.4901049,
                    0.1988796868,
                    4.211953668777499,
                    4.39565987,
                    0,
                    0.000122081862,
                    0.0022201486,
                    78.65747289999999,
                    0.27039896177399997,
                    6.392419936815,
                    2.5919409652,
                    0.14333603764999997,
                    0.05163445353,
                    1.93933399553,
                    67.30149701750899
                  ],
                  "yaxis": "y4"
                },
                {
                  "marker": {
                    "color": "#ff6700",
                    "line": {
                      "width": 0
                    }
                  },
                  "showlegend": false,
                  "type": "bar",
                  "x": [
                    1970,
                    1970,
                    1970,
                    1970,
                    1970,
                    1970,
                    1970,
                    1980,
                    1980,
                    1980,
                    1980,
                    1980,
                    1980,
                    1980,
                    1990,
                    1990,
                    1990,
                    1990,
                    1990,
                    1990,
                    1990,
                    2000,
                    2000,
                    2000,
                    2000,
                    2000,
                    2000,
                    2000,
                    2010,
                    2010,
                    2010,
                    2010,
                    2010,
                    2010,
                    2010
                  ],
                  "xaxis": "x4",
                  "y": [
                    44.573171837000004,
                    87.92090180999999,
                    49.148587209999995,
                    773.6411780000001,
                    408.1116629,
                    514.9247586,
                    210.04777578699998,
                    118.35067038300001,
                    117.4107949,
                    93.39337518,
                    661.838036,
                    535.278627,
                    1422.217035,
                    257.491942655,
                    110.11019628,
                    169.50383041,
                    136.96372680000002,
                    748.314538,
                    594.1428319999999,
                    1913.208472,
                    251.0836476975,
                    110.17993783000001,
                    266.79201679000005,
                    113.56936833,
                    1259.61069504432,
                    709.2851933037,
                    1523.087501978,
                    262.518891054,
                    145.853172248,
                    337.33217723599995,
                    132.0878903,
                    1150.388945464,
                    887.283710877,
                    1296.48466944,
                    232.667507072
                  ],
                  "yaxis": "y4"
                }
              ],
              "layout": {
                "annotations": [
                  {
                    "font": {
                      "size": 16
                    },
                    "showarrow": false,
                    "text": "US & Canada",
                    "x": 0.225,
                    "xanchor": "center",
                    "xref": "paper",
                    "y": 1,
                    "yanchor": "bottom",
                    "yref": "paper"
                  },
                  {
                    "font": {
                      "size": 16
                    },
                    "showarrow": false,
                    "text": "European Union",
                    "x": 0.775,
                    "xanchor": "center",
                    "xref": "paper",
                    "y": 1,
                    "yanchor": "bottom",
                    "yref": "paper"
                  },
                  {
                    "font": {
                      "size": 16
                    },
                    "showarrow": false,
                    "text": "Asia",
                    "x": 0.225,
                    "xanchor": "center",
                    "xref": "paper",
                    "y": 0.375,
                    "yanchor": "bottom",
                    "yref": "paper"
                  },
                  {
                    "font": {
                      "size": 16
                    },
                    "showarrow": false,
                    "text": "OPEC Countries",
                    "x": 0.775,
                    "xanchor": "center",
                    "xref": "paper",
                    "y": 0.375,
                    "yanchor": "bottom",
                    "yref": "paper"
                  }
                ],
                "bargap": 0.4,
                "barmode": "stack",
                "height": 900,
                "template": {
                  "data": {
                    "bar": [
                      {
                        "error_x": {
                          "color": "#2a3f5f"
                        },
                        "error_y": {
                          "color": "#2a3f5f"
                        },
                        "marker": {
                          "line": {
                            "color": "#E5ECF6",
                            "width": 0.5
                          },
                          "pattern": {
                            "fillmode": "overlay",
                            "size": 10,
                            "solidity": 0.2
                          }
                        },
                        "type": "bar"
                      }
                    ],
                    "barpolar": [
                      {
                        "marker": {
                          "line": {
                            "color": "#E5ECF6",
                            "width": 0.5
                          },
                          "pattern": {
                            "fillmode": "overlay",
                            "size": 10,
                            "solidity": 0.2
                          }
                        },
                        "type": "barpolar"
                      }
                    ],
                    "carpet": [
                      {
                        "aaxis": {
                          "endlinecolor": "#2a3f5f",
                          "gridcolor": "white",
                          "linecolor": "white",
                          "minorgridcolor": "white",
                          "startlinecolor": "#2a3f5f"
                        },
                        "baxis": {
                          "endlinecolor": "#2a3f5f",
                          "gridcolor": "white",
                          "linecolor": "white",
                          "minorgridcolor": "white",
                          "startlinecolor": "#2a3f5f"
                        },
                        "type": "carpet"
                      }
                    ],
                    "choropleth": [
                      {
                        "colorbar": {
                          "outlinewidth": 0,
                          "ticks": ""
                        },
                        "type": "choropleth"
                      }
                    ],
                    "contour": [
                      {
                        "colorbar": {
                          "outlinewidth": 0,
                          "ticks": ""
                        },
                        "colorscale": [
                          [
                            0,
                            "#0d0887"
                          ],
                          [
                            0.1111111111111111,
                            "#46039f"
                          ],
                          [
                            0.2222222222222222,
                            "#7201a8"
                          ],
                          [
                            0.3333333333333333,
                            "#9c179e"
                          ],
                          [
                            0.4444444444444444,
                            "#bd3786"
                          ],
                          [
                            0.5555555555555556,
                            "#d8576b"
                          ],
                          [
                            0.6666666666666666,
                            "#ed7953"
                          ],
                          [
                            0.7777777777777778,
                            "#fb9f3a"
                          ],
                          [
                            0.8888888888888888,
                            "#fdca26"
                          ],
                          [
                            1,
                            "#f0f921"
                          ]
                        ],
                        "type": "contour"
                      }
                    ],
                    "contourcarpet": [
                      {
                        "colorbar": {
                          "outlinewidth": 0,
                          "ticks": ""
                        },
                        "type": "contourcarpet"
                      }
                    ],
                    "heatmap": [
                      {
                        "colorbar": {
                          "outlinewidth": 0,
                          "ticks": ""
                        },
                        "colorscale": [
                          [
                            0,
                            "#0d0887"
                          ],
                          [
                            0.1111111111111111,
                            "#46039f"
                          ],
                          [
                            0.2222222222222222,
                            "#7201a8"
                          ],
                          [
                            0.3333333333333333,
                            "#9c179e"
                          ],
                          [
                            0.4444444444444444,
                            "#bd3786"
                          ],
                          [
                            0.5555555555555556,
                            "#d8576b"
                          ],
                          [
                            0.6666666666666666,
                            "#ed7953"
                          ],
                          [
                            0.7777777777777778,
                            "#fb9f3a"
                          ],
                          [
                            0.8888888888888888,
                            "#fdca26"
                          ],
                          [
                            1,
                            "#f0f921"
                          ]
                        ],
                        "type": "heatmap"
                      }
                    ],
                    "heatmapgl": [
                      {
                        "colorbar": {
                          "outlinewidth": 0,
                          "ticks": ""
                        },
                        "colorscale": [
                          [
                            0,
                            "#0d0887"
                          ],
                          [
                            0.1111111111111111,
                            "#46039f"
                          ],
                          [
                            0.2222222222222222,
                            "#7201a8"
                          ],
                          [
                            0.3333333333333333,
                            "#9c179e"
                          ],
                          [
                            0.4444444444444444,
                            "#bd3786"
                          ],
                          [
                            0.5555555555555556,
                            "#d8576b"
                          ],
                          [
                            0.6666666666666666,
                            "#ed7953"
                          ],
                          [
                            0.7777777777777778,
                            "#fb9f3a"
                          ],
                          [
                            0.8888888888888888,
                            "#fdca26"
                          ],
                          [
                            1,
                            "#f0f921"
                          ]
                        ],
                        "type": "heatmapgl"
                      }
                    ],
                    "histogram": [
                      {
                        "marker": {
                          "pattern": {
                            "fillmode": "overlay",
                            "size": 10,
                            "solidity": 0.2
                          }
                        },
                        "type": "histogram"
                      }
                    ],
                    "histogram2d": [
                      {
                        "colorbar": {
                          "outlinewidth": 0,
                          "ticks": ""
                        },
                        "colorscale": [
                          [
                            0,
                            "#0d0887"
                          ],
                          [
                            0.1111111111111111,
                            "#46039f"
                          ],
                          [
                            0.2222222222222222,
                            "#7201a8"
                          ],
                          [
                            0.3333333333333333,
                            "#9c179e"
                          ],
                          [
                            0.4444444444444444,
                            "#bd3786"
                          ],
                          [
                            0.5555555555555556,
                            "#d8576b"
                          ],
                          [
                            0.6666666666666666,
                            "#ed7953"
                          ],
                          [
                            0.7777777777777778,
                            "#fb9f3a"
                          ],
                          [
                            0.8888888888888888,
                            "#fdca26"
                          ],
                          [
                            1,
                            "#f0f921"
                          ]
                        ],
                        "type": "histogram2d"
                      }
                    ],
                    "histogram2dcontour": [
                      {
                        "colorbar": {
                          "outlinewidth": 0,
                          "ticks": ""
                        },
                        "colorscale": [
                          [
                            0,
                            "#0d0887"
                          ],
                          [
                            0.1111111111111111,
                            "#46039f"
                          ],
                          [
                            0.2222222222222222,
                            "#7201a8"
                          ],
                          [
                            0.3333333333333333,
                            "#9c179e"
                          ],
                          [
                            0.4444444444444444,
                            "#bd3786"
                          ],
                          [
                            0.5555555555555556,
                            "#d8576b"
                          ],
                          [
                            0.6666666666666666,
                            "#ed7953"
                          ],
                          [
                            0.7777777777777778,
                            "#fb9f3a"
                          ],
                          [
                            0.8888888888888888,
                            "#fdca26"
                          ],
                          [
                            1,
                            "#f0f921"
                          ]
                        ],
                        "type": "histogram2dcontour"
                      }
                    ],
                    "mesh3d": [
                      {
                        "colorbar": {
                          "outlinewidth": 0,
                          "ticks": ""
                        },
                        "type": "mesh3d"
                      }
                    ],
                    "parcoords": [
                      {
                        "line": {
                          "colorbar": {
                            "outlinewidth": 0,
                            "ticks": ""
                          }
                        },
                        "type": "parcoords"
                      }
                    ],
                    "pie": [
                      {
                        "automargin": true,
                        "type": "pie"
                      }
                    ],
                    "scatter": [
                      {
                        "fillpattern": {
                          "fillmode": "overlay",
                          "size": 10,
                          "solidity": 0.2
                        },
                        "type": "scatter"
                      }
                    ],
                    "scatter3d": [
                      {
                        "line": {
                          "colorbar": {
                            "outlinewidth": 0,
                            "ticks": ""
                          }
                        },
                        "marker": {
                          "colorbar": {
                            "outlinewidth": 0,
                            "ticks": ""
                          }
                        },
                        "type": "scatter3d"
                      }
                    ],
                    "scattercarpet": [
                      {
                        "marker": {
                          "colorbar": {
                            "outlinewidth": 0,
                            "ticks": ""
                          }
                        },
                        "type": "scattercarpet"
                      }
                    ],
                    "scattergeo": [
                      {
                        "marker": {
                          "colorbar": {
                            "outlinewidth": 0,
                            "ticks": ""
                          }
                        },
                        "type": "scattergeo"
                      }
                    ],
                    "scattergl": [
                      {
                        "marker": {
                          "colorbar": {
                            "outlinewidth": 0,
                            "ticks": ""
                          }
                        },
                        "type": "scattergl"
                      }
                    ],
                    "scattermapbox": [
                      {
                        "marker": {
                          "colorbar": {
                            "outlinewidth": 0,
                            "ticks": ""
                          }
                        },
                        "type": "scattermapbox"
                      }
                    ],
                    "scatterpolar": [
                      {
                        "marker": {
                          "colorbar": {
                            "outlinewidth": 0,
                            "ticks": ""
                          }
                        },
                        "type": "scatterpolar"
                      }
                    ],
                    "scatterpolargl": [
                      {
                        "marker": {
                          "colorbar": {
                            "outlinewidth": 0,
                            "ticks": ""
                          }
                        },
                        "type": "scatterpolargl"
                      }
                    ],
                    "scatterternary": [
                      {
                        "marker": {
                          "colorbar": {
                            "outlinewidth": 0,
                            "ticks": ""
                          }
                        },
                        "type": "scatterternary"
                      }
                    ],
                    "surface": [
                      {
                        "colorbar": {
                          "outlinewidth": 0,
                          "ticks": ""
                        },
                        "colorscale": [
                          [
                            0,
                            "#0d0887"
                          ],
                          [
                            0.1111111111111111,
                            "#46039f"
                          ],
                          [
                            0.2222222222222222,
                            "#7201a8"
                          ],
                          [
                            0.3333333333333333,
                            "#9c179e"
                          ],
                          [
                            0.4444444444444444,
                            "#bd3786"
                          ],
                          [
                            0.5555555555555556,
                            "#d8576b"
                          ],
                          [
                            0.6666666666666666,
                            "#ed7953"
                          ],
                          [
                            0.7777777777777778,
                            "#fb9f3a"
                          ],
                          [
                            0.8888888888888888,
                            "#fdca26"
                          ],
                          [
                            1,
                            "#f0f921"
                          ]
                        ],
                        "type": "surface"
                      }
                    ],
                    "table": [
                      {
                        "cells": {
                          "fill": {
                            "color": "#EBF0F8"
                          },
                          "line": {
                            "color": "white"
                          }
                        },
                        "header": {
                          "fill": {
                            "color": "#C8D4E3"
                          },
                          "line": {
                            "color": "white"
                          }
                        },
                        "type": "table"
                      }
                    ]
                  },
                  "layout": {
                    "annotationdefaults": {
                      "arrowcolor": "#2a3f5f",
                      "arrowhead": 0,
                      "arrowwidth": 1
                    },
                    "autotypenumbers": "strict",
                    "coloraxis": {
                      "colorbar": {
                        "outlinewidth": 0,
                        "ticks": ""
                      }
                    },
                    "colorscale": {
                      "diverging": [
                        [
                          0,
                          "#8e0152"
                        ],
                        [
                          0.1,
                          "#c51b7d"
                        ],
                        [
                          0.2,
                          "#de77ae"
                        ],
                        [
                          0.3,
                          "#f1b6da"
                        ],
                        [
                          0.4,
                          "#fde0ef"
                        ],
                        [
                          0.5,
                          "#f7f7f7"
                        ],
                        [
                          0.6,
                          "#e6f5d0"
                        ],
                        [
                          0.7,
                          "#b8e186"
                        ],
                        [
                          0.8,
                          "#7fbc41"
                        ],
                        [
                          0.9,
                          "#4d9221"
                        ],
                        [
                          1,
                          "#276419"
                        ]
                      ],
                      "sequential": [
                        [
                          0,
                          "#0d0887"
                        ],
                        [
                          0.1111111111111111,
                          "#46039f"
                        ],
                        [
                          0.2222222222222222,
                          "#7201a8"
                        ],
                        [
                          0.3333333333333333,
                          "#9c179e"
                        ],
                        [
                          0.4444444444444444,
                          "#bd3786"
                        ],
                        [
                          0.5555555555555556,
                          "#d8576b"
                        ],
                        [
                          0.6666666666666666,
                          "#ed7953"
                        ],
                        [
                          0.7777777777777778,
                          "#fb9f3a"
                        ],
                        [
                          0.8888888888888888,
                          "#fdca26"
                        ],
                        [
                          1,
                          "#f0f921"
                        ]
                      ],
                      "sequentialminus": [
                        [
                          0,
                          "#0d0887"
                        ],
                        [
                          0.1111111111111111,
                          "#46039f"
                        ],
                        [
                          0.2222222222222222,
                          "#7201a8"
                        ],
                        [
                          0.3333333333333333,
                          "#9c179e"
                        ],
                        [
                          0.4444444444444444,
                          "#bd3786"
                        ],
                        [
                          0.5555555555555556,
                          "#d8576b"
                        ],
                        [
                          0.6666666666666666,
                          "#ed7953"
                        ],
                        [
                          0.7777777777777778,
                          "#fb9f3a"
                        ],
                        [
                          0.8888888888888888,
                          "#fdca26"
                        ],
                        [
                          1,
                          "#f0f921"
                        ]
                      ]
                    },
                    "colorway": [
                      "#636efa",
                      "#EF553B",
                      "#00cc96",
                      "#ab63fa",
                      "#FFA15A",
                      "#19d3f3",
                      "#FF6692",
                      "#B6E880",
                      "#FF97FF",
                      "#FECB52"
                    ],
                    "font": {
                      "color": "#2a3f5f"
                    },
                    "geo": {
                      "bgcolor": "white",
                      "lakecolor": "white",
                      "landcolor": "#E5ECF6",
                      "showlakes": true,
                      "showland": true,
                      "subunitcolor": "white"
                    },
                    "hoverlabel": {
                      "align": "left"
                    },
                    "hovermode": "closest",
                    "mapbox": {
                      "style": "light"
                    },
                    "paper_bgcolor": "white",
                    "plot_bgcolor": "#E5ECF6",
                    "polar": {
                      "angularaxis": {
                        "gridcolor": "white",
                        "linecolor": "white",
                        "ticks": ""
                      },
                      "bgcolor": "#E5ECF6",
                      "radialaxis": {
                        "gridcolor": "white",
                        "linecolor": "white",
                        "ticks": ""
                      }
                    },
                    "scene": {
                      "xaxis": {
                        "backgroundcolor": "#E5ECF6",
                        "gridcolor": "white",
                        "gridwidth": 2,
                        "linecolor": "white",
                        "showbackground": true,
                        "ticks": "",
                        "zerolinecolor": "white"
                      },
                      "yaxis": {
                        "backgroundcolor": "#E5ECF6",
                        "gridcolor": "white",
                        "gridwidth": 2,
                        "linecolor": "white",
                        "showbackground": true,
                        "ticks": "",
                        "zerolinecolor": "white"
                      },
                      "zaxis": {
                        "backgroundcolor": "#E5ECF6",
                        "gridcolor": "white",
                        "gridwidth": 2,
                        "linecolor": "white",
                        "showbackground": true,
                        "ticks": "",
                        "zerolinecolor": "white"
                      }
                    },
                    "shapedefaults": {
                      "line": {
                        "color": "#2a3f5f"
                      }
                    },
                    "ternary": {
                      "aaxis": {
                        "gridcolor": "white",
                        "linecolor": "white",
                        "ticks": ""
                      },
                      "baxis": {
                        "gridcolor": "white",
                        "linecolor": "white",
                        "ticks": ""
                      },
                      "bgcolor": "#E5ECF6",
                      "caxis": {
                        "gridcolor": "white",
                        "linecolor": "white",
                        "ticks": ""
                      }
                    },
                    "title": {
                      "x": 0.05
                    },
                    "xaxis": {
                      "automargin": true,
                      "gridcolor": "white",
                      "linecolor": "white",
                      "ticks": "",
                      "title": {
                        "standoff": 15
                      },
                      "zerolinecolor": "white",
                      "zerolinewidth": 2
                    },
                    "yaxis": {
                      "automargin": true,
                      "gridcolor": "white",
                      "linecolor": "white",
                      "ticks": "",
                      "title": {
                        "standoff": 15
                      },
                      "zerolinecolor": "white",
                      "zerolinewidth": 2
                    }
                  }
                },
                "title": {
                  "text": "Energy Consumption by Region (MWh)"
                },
                "width": 1000,
                "xaxis": {
                  "anchor": "y",
                  "domain": [
                    0,
                    0.45
                  ],
                  "tickvals": [
                    1970,
                    1980,
                    1990,
                    2000,
                    2010
                  ]
                },
                "xaxis2": {
                  "anchor": "y2",
                  "domain": [
                    0.55,
                    1
                  ],
                  "tickvals": [
                    1970,
                    1980,
                    1990,
                    2000,
                    2010
                  ]
                },
                "xaxis3": {
                  "anchor": "y3",
                  "domain": [
                    0,
                    0.45
                  ],
                  "tickvals": [
                    1970,
                    1980,
                    1990,
                    2000,
                    2010
                  ]
                },
                "xaxis4": {
                  "anchor": "y4",
                  "domain": [
                    0.55,
                    1
                  ],
                  "tickvals": [
                    1970,
                    1980,
                    1990,
                    2000,
                    2010
                  ]
                },
                "yaxis": {
                  "anchor": "x",
                  "domain": [
                    0.625,
                    1
                  ]
                },
                "yaxis2": {
                  "anchor": "x2",
                  "domain": [
                    0.625,
                    1
                  ]
                },
                "yaxis3": {
                  "anchor": "x3",
                  "domain": [
                    0,
                    0.375
                  ]
                },
                "yaxis4": {
                  "anchor": "x4",
                  "domain": [
                    0,
                    0.375
                  ]
                }
              }
            }
          },
          "metadata": {},
          "output_type": "display_data"
        }
      ],
      "source": [
        "fig = make_subplots(rows=2,\n",
        "                    cols=2,\n",
        "                    subplot_titles=(\"US & Canada\", \"European Union\", \"Asia\", \"OPEC Countries\"))\n",
        "\n",
        "fig.add_trace(go.Bar(x=df_region[df_region['Entity']=='US & Canada']['Decade'].sort_values(),\n",
        "                     y=df_region[df_region['Entity']=='US & Canada']['TotalRenewablePerCap']/1000,\n",
        "                     name='Reneweable Enerygy',\n",
        "                     marker=dict(color='#009e60')\n",
        "                     ), row=1, col=1)\n",
        "\n",
        "fig.add_trace(go.Bar(x=df_region[df_region['Entity']=='US & Canada']['Decade'].sort_values(),\n",
        "                     y=df_region[df_region['Entity']=='US & Canada']['TotalNonRenewablePerCap']/1000,\n",
        "                     name='Non-Renewable Energy',\n",
        "                     marker=dict(color='#ff6700')\n",
        "                     ), row=1, col=1)\n",
        "\n",
        "fig.add_trace(go.Bar(x=df_region[df_region['Entity']=='European Union (27)']['Decade'].sort_values(),\n",
        "                     y=df_region[df_region['Entity']=='European Union (27)']['TotalRenewablePerCap']/1000,\n",
        "                    #  name='Reneweable Enerygy',\n",
        "                     marker=dict(color='#009e60',),\n",
        "                     showlegend = False\n",
        "                     ), row=1, col=2)\n",
        "\n",
        "fig.add_trace(go.Bar(x=df_region[df_region['Entity']=='European Union (27)']['Decade'].sort_values(),\n",
        "                     y=df_region[df_region['Entity']=='European Union (27)']['TotalNonRenewablePerCap']/1000,\n",
        "                    #  name='Non-Renewable Energy',\n",
        "                     marker=dict(color='#ff6700'),\n",
        "                     showlegend = False\n",
        "                     ), row=1, col=2)\n",
        "\n",
        "fig.add_trace(go.Bar(x=df_region[df_region['Entity']=='Asia']['Decade'].sort_values(),\n",
        "                     y=df_region[df_region['Entity']=='Asia']['TotalRenewablePerCap']/1000,\n",
        "                    #  name='Reneweable Enerygy',\n",
        "                     marker=dict(color='#009e60'),\n",
        "                     showlegend = False\n",
        "                     ), row=2, col=1)\n",
        "\n",
        "fig.add_trace(go.Bar(x=df_region[df_region['Entity']=='Asia']['Decade'].sort_values(),\n",
        "                     y=df_region[df_region['Entity']=='Asia']['TotalNonRenewablePerCap']/1000,\n",
        "                    #  name='Non-Renewable Energy',\n",
        "                     marker=dict(color='#ff6700'),\n",
        "                     showlegend = False\n",
        "                     ), row=2, col=1)\n",
        "\n",
        "fig.add_trace(go.Bar(x=df_region[df_region['Entity']=='OPEC']['Decade'].sort_values(),\n",
        "                     y=df_region[df_region['Entity']=='OPEC']['TotalRenewablePerCap']/1000,\n",
        "                    #  name='Reneweable Enerygy',\n",
        "                     marker=dict(color='#009e60'),\n",
        "                     showlegend = False\n",
        "                     ), row=2, col=2)\n",
        "\n",
        "fig.add_trace(go.Bar(x=df_region[df_region['Entity']=='OPEC']['Decade'].sort_values(),\n",
        "                     y=df_region[df_region['Entity']=='OPEC']['TotalNonRenewablePerCap']/1000,\n",
        "                    #  name='Non-Renewable Energy',\n",
        "                     marker=dict(color='#ff6700'),\n",
        "                     showlegend = False\n",
        "                     ), row=2, col=2)\n",
        "\n",
        "fig.update_traces(marker_line_width=0)\n",
        "\n",
        "fig.update_layout(height=900,\n",
        "                  width=1000,\n",
        "                  bargap=0.4,\n",
        "                  barmode='stack',\n",
        "                  title_text=\"Energy Consumption by Region (MWh)\",\n",
        "                  xaxis=dict(tickvals = df_region['Decade'].unique()),\n",
        "                  xaxis2=dict(tickvals = df_region['Decade'].unique()),\n",
        "                  xaxis3=dict(tickvals = df_region['Decade'].unique()),\n",
        "                  xaxis4=dict(tickvals = df_region['Decade'].unique())\n",
        "                  )\n",
        "\n",
        "fig.show()"
      ]
    },
    {
      "cell_type": "markdown",
      "metadata": {
        "id": "VC17xMvlrFFy"
      },
      "source": [
        "When all four charts are compared, it is abundantly clear that the US and Canadian region along with the OPEC countries consume around 5 to 10 times the energy consumed per person in the European Union, wich comprises of around 27 countries, and almost around 13 to 26 times the energy consumed per person in the European region. It also shows that OPEC countries are the highest consumers of non-renewable energy sources.\n",
        "\n",
        "Among the regions best utilizing their non-renewable energy sources, which are US and Canada and the European Union, renewable energy in the 2010 decade only made around 17% and 33%, respectively, of the total energy consumed per capita."
      ]
    },
    {
      "cell_type": "code",
      "execution_count": 9,
      "metadata": {
        "colab": {
          "base_uri": "https://localhost:8080/"
        },
        "id": "Txc4aprJ_VYe",
        "outputId": "457a34cb-d2dd-4a5f-86f5-cd9fd828fc92"
      },
      "outputs": [
        {
          "name": "stderr",
          "output_type": "stream",
          "text": [
            "/var/folders/zx/w0khk41x0xl08sdt7j90tmr80000gn/T/ipykernel_5243/4114039978.py:3: SettingWithCopyWarning:\n",
            "\n",
            "\n",
            "A value is trying to be set on a copy of a slice from a DataFrame.\n",
            "Try using .loc[row_indexer,col_indexer] = value instead\n",
            "\n",
            "See the caveats in the documentation: https://pandas.pydata.org/pandas-docs/stable/user_guide/indexing.html#returning-a-view-versus-a-copy\n",
            "\n",
            "/var/folders/zx/w0khk41x0xl08sdt7j90tmr80000gn/T/ipykernel_5243/4114039978.py:5: SettingWithCopyWarning:\n",
            "\n",
            "\n",
            "A value is trying to be set on a copy of a slice from a DataFrame.\n",
            "Try using .loc[row_indexer,col_indexer] = value instead\n",
            "\n",
            "See the caveats in the documentation: https://pandas.pydata.org/pandas-docs/stable/user_guide/indexing.html#returning-a-view-versus-a-copy\n",
            "\n"
          ]
        }
      ],
      "source": [
        "energyDF_region = energyDF[(energyDF['Entity'].isin(['Asia', 'European Union (27)']+opec_countries+us_and_canada))]\n",
        "\n",
        "energyDF_region['Entity'] = energyDF_region['Entity'].apply(lambda x: 'OPEC' if x in opec_countries else x)\n",
        "\n",
        "energyDF_region['Entity'] = energyDF_region['Entity'].apply(lambda x: 'US & Canada' if x in us_and_canada else x)"
      ]
    },
    {
      "cell_type": "code",
      "execution_count": 10,
      "metadata": {
        "colab": {
          "base_uri": "https://localhost:8080/",
          "height": 937
        },
        "id": "T4mTOlGL_VYe",
        "outputId": "fcffb51b-dbba-46b9-fa0c-5cc19be105a9"
      },
      "outputs": [
        {
          "data": {
            "application/vnd.plotly.v1+json": {
              "config": {
                "plotlyServerURL": "https://plot.ly"
              },
              "data": [
                {
                  "marker": {
                    "color": "black",
                    "line": {
                      "width": 0
                    }
                  },
                  "name": "Total Enerygy",
                  "type": "scatter",
                  "x": [
                    1970,
                    1970,
                    1971,
                    1971,
                    1972,
                    1972,
                    1973,
                    1973,
                    1974,
                    1974,
                    1975,
                    1975,
                    1976,
                    1976,
                    1977,
                    1977,
                    1978,
                    1978,
                    1979,
                    1979,
                    1980,
                    1980,
                    1981,
                    1981,
                    1982,
                    1982,
                    1983,
                    1983,
                    1984,
                    1984,
                    1985,
                    1985,
                    1986,
                    1986,
                    1987,
                    1987,
                    1988,
                    1988,
                    1989,
                    1989,
                    1990,
                    1990,
                    1991,
                    1991,
                    1992,
                    1992,
                    1993,
                    1993,
                    1994,
                    1994,
                    1995,
                    1995,
                    1996,
                    1996,
                    1997,
                    1997,
                    1998,
                    1998,
                    1999,
                    1999,
                    2000,
                    2000,
                    2001,
                    2001,
                    2002,
                    2002,
                    2003,
                    2003,
                    2004,
                    2004,
                    2005,
                    2005,
                    2006,
                    2006,
                    2007,
                    2007,
                    2008,
                    2008,
                    2009,
                    2009,
                    2010,
                    2010,
                    2011,
                    2011,
                    2012,
                    2012,
                    2013,
                    2013,
                    2014,
                    2014,
                    2015,
                    2015,
                    2016,
                    2016,
                    2017,
                    2017,
                    2018,
                    2018,
                    2019,
                    2019,
                    2020,
                    2020,
                    2021,
                    2021,
                    2022,
                    2022
                  ],
                  "xaxis": "x",
                  "y": [
                    87.1751753,
                    88.0429897,
                    93.34220719999999,
                    100.10402679999999,
                    101.84794839999999,
                    98.9329452,
                    102.25137873,
                    106.91584696,
                    107.8433503,
                    109.83905791999999,
                    110.62938272,
                    108.63128095000002,
                    104.16215575,
                    102.53272496,
                    108.04444495,
                    110.55888405763,
                    110.465445255274,
                    112.6310095013,
                    115.48901351381599,
                    114.790236666035,
                    108.78111993164002,
                    107.82600656552,
                    109.41739197471001,
                    110.92465284183001,
                    113.90683862537,
                    115.46440698926999,
                    117.39044127574999,
                    116.83144995260001,
                    114.11362250536,
                    116.7596739895,
                    118.82487967940001,
                    115.1688691553,
                    117.866089389,
                    117.311950865,
                    118.0252160035,
                    117.68301331410001,
                    115.8845958518,
                    118.92347804399999,
                    116.19952595440002,
                    110.399943479,
                    110.17946626799998,
                    112.96027291,
                    111.95525849,
                    113.43869496399999,
                    112.5726304,
                    112.30949887000001,
                    109.62535252000002,
                    109.86245410000001,
                    109.39955854000002,
                    107.32002633,
                    99.88235020000002,
                    100.09156296,
                    101.54930589,
                    90.87999901999999,
                    91.61302492,
                    95.08007178,
                    98.11068112000001,
                    94.81459772000001,
                    91.44254056999999,
                    95.54323095,
                    96.9917277,
                    98.03170952,
                    97.90481437999999,
                    92.99971663,
                    89.24323586999999,
                    84.72815492,
                    83.556291593097,
                    86.93564992199398,
                    85.83700945328,
                    85.772083239706,
                    87.787257813313,
                    90.862548245738,
                    92.050436143,
                    91.0574838734,
                    89.66808244069999,
                    89.69244531759999,
                    90.286282485,
                    90.7126844476,
                    91.50764560740001,
                    93.45972652360001,
                    92.96099635560002,
                    92.3792982297,
                    92.88871188200001,
                    93.86883683459999,
                    90.63446691900002,
                    91.03819142069999,
                    90.4002400283,
                    91.23087278459998,
                    90.3379483905,
                    88.6276762972,
                    88.845678606,
                    85.635365272,
                    80.539458374,
                    82.443781057,
                    80.938506364,
                    78.085516275,
                    79.44363257999998,
                    79.60558816,
                    78.15530887,
                    77.36287399,
                    77.0456405,
                    79.365125,
                    78.24508605,
                    72.1099896,
                    75.75479513,
                    77.4717473
                  ],
                  "yaxis": "y"
                },
                {
                  "marker": {
                    "color": "black",
                    "line": {
                      "width": 0
                    }
                  },
                  "showlegend": false,
                  "type": "scatter",
                  "x": [
                    1970,
                    1971,
                    1972,
                    1973,
                    1974,
                    1975,
                    1976,
                    1977,
                    1978,
                    1979,
                    1980,
                    1981,
                    1982,
                    1983,
                    1984,
                    1985,
                    1986,
                    1987,
                    1988,
                    1989,
                    1990,
                    1991,
                    1992,
                    1993,
                    1994,
                    1995,
                    1996,
                    1997,
                    1998,
                    1999,
                    2000,
                    2001,
                    2002,
                    2003,
                    2004,
                    2005,
                    2006,
                    2007,
                    2008,
                    2009,
                    2010,
                    2011,
                    2012,
                    2013,
                    2014,
                    2015,
                    2016,
                    2017,
                    2018,
                    2019,
                    2020,
                    2021,
                    2022
                  ],
                  "xaxis": "x2",
                  "y": [
                    32.691253244,
                    33.523038993,
                    35.10672138,
                    36.868529609999996,
                    36.27916866,
                    35.8818548,
                    37.93414384,
                    38.31079238,
                    39.697107949241,
                    40.964744290594005,
                    40.09736392396,
                    38.79075508894499,
                    37.748580532729996,
                    37.80711783826,
                    38.84446465516,
                    40.7148800707,
                    41.18390131355001,
                    41.912984084,
                    42.1344640966,
                    42.114552206499994,
                    41.793004121530004,
                    41.47988147498,
                    40.56964829815,
                    40.15167589237999,
                    39.913367285890004,
                    40.825335874980006,
                    42.01331452442,
                    41.79272401517,
                    42.17346918354,
                    41.931079532000005,
                    42.17016507894,
                    42.9318178004,
                    42.538123760000005,
                    43.2333243643,
                    43.6827998422,
                    43.51338564699999,
                    43.664272082,
                    42.913235698,
                    42.525572513,
                    39.816365945,
                    41.29839371,
                    39.951385949999995,
                    39.44839064,
                    39.13652195,
                    37.7138013,
                    38.17504226,
                    38.55600526,
                    39.0356867,
                    38.913896,
                    38.2116295,
                    35.29687086,
                    37.1877445,
                    35.662637600000004
                  ],
                  "yaxis": "y2"
                },
                {
                  "marker": {
                    "color": "black",
                    "line": {
                      "width": 0
                    }
                  },
                  "showlegend": false,
                  "type": "scatter",
                  "x": [
                    1970,
                    1971,
                    1972,
                    1973,
                    1974,
                    1975,
                    1976,
                    1977,
                    1978,
                    1979,
                    1980,
                    1981,
                    1982,
                    1983,
                    1984,
                    1985,
                    1986,
                    1987,
                    1988,
                    1989,
                    1990,
                    1991,
                    1992,
                    1993,
                    1994,
                    1995,
                    1996,
                    1997,
                    1998,
                    1999,
                    2000,
                    2001,
                    2002,
                    2003,
                    2004,
                    2005,
                    2006,
                    2007,
                    2008,
                    2009,
                    2010,
                    2011,
                    2012,
                    2013,
                    2014,
                    2015,
                    2016,
                    2017,
                    2018,
                    2019,
                    2020,
                    2021,
                    2022
                  ],
                  "xaxis": "x3",
                  "y": [
                    3.9439644504999998,
                    4.229957542999999,
                    4.3946578165400005,
                    4.6554517073,
                    4.66092168914,
                    4.733547908450001,
                    4.910213949,
                    5.138999878940001,
                    5.3988471815,
                    5.596691631200001,
                    5.5015665662,
                    5.475136119999999,
                    5.486803015,
                    5.670632319999999,
                    6.00247336,
                    6.884568784,
                    7.031574101,
                    7.283990255,
                    7.639332695999999,
                    7.850387515,
                    8.0048661514345,
                    8.1700068123533,
                    8.391733367575,
                    8.606230892400001,
                    8.909805708418,
                    9.163480209223998,
                    9.426926420863001,
                    9.564515872489999,
                    9.44708622261,
                    9.62160388162,
                    9.86497175403,
                    10.06824208093,
                    10.4288793501,
                    11.10322052346,
                    12.020836462099998,
                    12.771506062899999,
                    13.344676834,
                    13.991587713200001,
                    14.2824756573,
                    14.415963355,
                    15.1783182475,
                    15.778425113,
                    16.148254302,
                    16.379641746,
                    16.652887075,
                    16.805299755,
                    16.945142240000003,
                    17.3522328,
                    17.82056906,
                    18.177831020000003,
                    17.926242119999998,
                    18.769545559999997,
                    19.09312629
                  ],
                  "yaxis": "y3"
                },
                {
                  "marker": {
                    "color": "black",
                    "line": {
                      "width": 0
                    }
                  },
                  "showlegend": false,
                  "type": "scatter",
                  "x": [
                    1970,
                    1970,
                    1970,
                    1970,
                    1970,
                    1970,
                    1970,
                    1971,
                    1971,
                    1971,
                    1971,
                    1971,
                    1971,
                    1971,
                    1972,
                    1972,
                    1972,
                    1972,
                    1972,
                    1972,
                    1972,
                    1973,
                    1973,
                    1973,
                    1973,
                    1973,
                    1973,
                    1973,
                    1974,
                    1974,
                    1974,
                    1974,
                    1974,
                    1974,
                    1974,
                    1975,
                    1975,
                    1975,
                    1975,
                    1975,
                    1975,
                    1975,
                    1976,
                    1976,
                    1976,
                    1976,
                    1976,
                    1976,
                    1976,
                    1977,
                    1977,
                    1977,
                    1977,
                    1977,
                    1977,
                    1977,
                    1978,
                    1978,
                    1978,
                    1978,
                    1978,
                    1978,
                    1978,
                    1979,
                    1979,
                    1979,
                    1979,
                    1979,
                    1979,
                    1979,
                    1980,
                    1980,
                    1980,
                    1980,
                    1980,
                    1980,
                    1980,
                    1981,
                    1981,
                    1981,
                    1981,
                    1981,
                    1981,
                    1981,
                    1982,
                    1982,
                    1982,
                    1982,
                    1982,
                    1982,
                    1982,
                    1983,
                    1983,
                    1983,
                    1983,
                    1983,
                    1983,
                    1983,
                    1984,
                    1984,
                    1984,
                    1984,
                    1984,
                    1984,
                    1984,
                    1985,
                    1985,
                    1985,
                    1985,
                    1985,
                    1985,
                    1985,
                    1986,
                    1986,
                    1986,
                    1986,
                    1986,
                    1986,
                    1986,
                    1987,
                    1987,
                    1987,
                    1987,
                    1987,
                    1987,
                    1987,
                    1988,
                    1988,
                    1988,
                    1988,
                    1988,
                    1988,
                    1988,
                    1989,
                    1989,
                    1989,
                    1989,
                    1989,
                    1989,
                    1989,
                    1990,
                    1990,
                    1990,
                    1990,
                    1990,
                    1990,
                    1990,
                    1991,
                    1991,
                    1991,
                    1991,
                    1991,
                    1991,
                    1991,
                    1992,
                    1992,
                    1992,
                    1992,
                    1992,
                    1992,
                    1992,
                    1993,
                    1993,
                    1993,
                    1993,
                    1993,
                    1993,
                    1993,
                    1994,
                    1994,
                    1994,
                    1994,
                    1994,
                    1994,
                    1994,
                    1995,
                    1995,
                    1995,
                    1995,
                    1995,
                    1995,
                    1995,
                    1996,
                    1996,
                    1996,
                    1996,
                    1996,
                    1996,
                    1996,
                    1997,
                    1997,
                    1997,
                    1997,
                    1997,
                    1997,
                    1997,
                    1998,
                    1998,
                    1998,
                    1998,
                    1998,
                    1998,
                    1998,
                    1999,
                    1999,
                    1999,
                    1999,
                    1999,
                    1999,
                    1999,
                    2000,
                    2000,
                    2000,
                    2000,
                    2000,
                    2000,
                    2000,
                    2001,
                    2001,
                    2001,
                    2001,
                    2001,
                    2001,
                    2001,
                    2002,
                    2002,
                    2002,
                    2002,
                    2002,
                    2002,
                    2002,
                    2003,
                    2003,
                    2003,
                    2003,
                    2003,
                    2003,
                    2003,
                    2004,
                    2004,
                    2004,
                    2004,
                    2004,
                    2004,
                    2004,
                    2005,
                    2005,
                    2005,
                    2005,
                    2005,
                    2005,
                    2005,
                    2006,
                    2006,
                    2006,
                    2006,
                    2006,
                    2006,
                    2006,
                    2007,
                    2007,
                    2007,
                    2007,
                    2007,
                    2007,
                    2007,
                    2008,
                    2008,
                    2008,
                    2008,
                    2008,
                    2008,
                    2008,
                    2009,
                    2009,
                    2009,
                    2009,
                    2009,
                    2009,
                    2009,
                    2010,
                    2010,
                    2010,
                    2010,
                    2010,
                    2010,
                    2010,
                    2011,
                    2011,
                    2011,
                    2011,
                    2011,
                    2011,
                    2011,
                    2012,
                    2012,
                    2012,
                    2012,
                    2012,
                    2012,
                    2012,
                    2013,
                    2013,
                    2013,
                    2013,
                    2013,
                    2013,
                    2013,
                    2014,
                    2014,
                    2014,
                    2014,
                    2014,
                    2014,
                    2014,
                    2015,
                    2015,
                    2015,
                    2015,
                    2015,
                    2015,
                    2015,
                    2016,
                    2016,
                    2016,
                    2016,
                    2016,
                    2016,
                    2016,
                    2017,
                    2017,
                    2017,
                    2017,
                    2017,
                    2017,
                    2017,
                    2018,
                    2018,
                    2018,
                    2018,
                    2018,
                    2018,
                    2018,
                    2019,
                    2019,
                    2019,
                    2019,
                    2019,
                    2019,
                    2019,
                    2020,
                    2020,
                    2020,
                    2020,
                    2020,
                    2020,
                    2020,
                    2021,
                    2021,
                    2021,
                    2021,
                    2021,
                    2021,
                    2021,
                    2022,
                    2022,
                    2022,
                    2022,
                    2022,
                    2022,
                    2022
                  ],
                  "xaxis": "x4",
                  "y": [
                    2.6644769999999998,
                    2.815881425,
                    3.0920098,
                    3.601310343,
                    3.8874542159999996,
                    4.47510538,
                    4.97572972,
                    5.265061975000001,
                    6.429067452,
                    8.176383675,
                    9.452978296,
                    11.119953547,
                    12.405544420000002,
                    13.10149978,
                    12.162377215000003,
                    11.8509753,
                    12.126725605,
                    12.09051614,
                    12.598338596,
                    11.935478016,
                    12.343161662,
                    11.94215167,
                    11.971858586,
                    10.893887926000001,
                    10.807210353,
                    10.996016723999999,
                    10.692722311,
                    10.1051521114,
                    10.304175381,
                    10.262746259999998,
                    9.7465243496,
                    9.9616390305,
                    10.1803498057,
                    10.510460641000002,
                    10.759021951000001,
                    11.11372257,
                    11.341980604000002,
                    11.759701000000002,
                    12.252297405000002,
                    12.75312016,
                    12.243156794799999,
                    12.710540976499999,
                    13.6249094286,
                    14.1307354346,
                    15.108636040543999,
                    15.616311184899999,
                    15.295143817100001,
                    15.1640013389,
                    15.9710847328,
                    16.25905146103,
                    14.93380644812,
                    15.914462383999998,
                    15.2521262482,
                    5.836307400000001,
                    6.21310838,
                    6.8484463,
                    7.95531941,
                    8.761963439999999,
                    9.91109978,
                    10.82911973,
                    11.897393759999998,
                    11.270636709999998,
                    11.77176544,
                    10.541232639999999,
                    10.0685368,
                    10.82230462,
                    12.40350735,
                    12.93414997,
                    13.623728189999998,
                    12.33354219,
                    12.796609080000001,
                    12.656989759999998,
                    13.439815250000002,
                    14.54078314,
                    15.178739349999999,
                    16.395329529999998,
                    15.073912510000001,
                    16.816411359999996,
                    17.40188205,
                    18.683661539999996,
                    18.98405876,
                    19.468625719999995,
                    20.6525548977,
                    21.307210310500004,
                    22.379374607600003,
                    24.156203364799996,
                    24.3720346124,
                    26.5264018141,
                    27.6464547747,
                    29.747424410723504,
                    31.167164048392003,
                    31.688735879849,
                    32.012966635713,
                    32.127780085632,
                    33.133559415414,
                    33.081696299455,
                    33.749087163800006,
                    34.47491228488,
                    33.567576480924,
                    34.55677199957,
                    35.33623022354,
                    36.060901788399995,
                    37.6360814312,
                    38.7058706108,
                    38.2256984908,
                    38.133087143900006,
                    15.090168937,
                    14.896871386,
                    15.430376458,
                    3.99101679,
                    4.220512210000001,
                    4.77792377,
                    4.540178495,
                    4.299859509999999,
                    4.54818838,
                    5.537109985,
                    5.60952105,
                    5.754363189999999,
                    6.97977287,
                    7.4239033,
                    6.7355921500000004,
                    6.782681754,
                    7.562958786,
                    8.12207062,
                    9.093793405,
                    10.21836304,
                    11.72818,
                    13.269976119999999,
                    14.67341084,
                    13.462372499999999,
                    8.40683587,
                    12.9495055,
                    16.39472194,
                    17.684619899999998,
                    17.028673129999998,
                    16.5038377,
                    18.9573738,
                    13.784205100000001,
                    9.625281300000001,
                    13.1009853,
                    14.17643023,
                    13.0486078,
                    11.23332907,
                    11.7033805,
                    10.743436229999999,
                    10.36760643,
                    10.54325813,
                    11.83888034,
                    11.209114170000001,
                    12.16779386,
                    12.0875093,
                    12.60980063,
                    13.3617368846,
                    12.8297464176,
                    12.457779663000002,
                    13.748047729,
                    12.99626608,
                    13.267276290000002,
                    14.392053834999999,
                    109.53643281174,
                    107.60050070813999,
                    110.79081173120001,
                    128.99793561334,
                    140.6272754407,
                    149.455005,
                    135.87556657,
                    124.44691312799999,
                    127.3020350412,
                    124.978219,
                    133.508609818,
                    128.367720716,
                    122.21448201999999,
                    116.45141562695001,
                    114.8049852143,
                    114.8091100388,
                    109.50566409599999,
                    109.312465988,
                    106.9452720536,
                    94.61255593,
                    91.1313692193,
                    98.0655037506,
                    103.88274283829999,
                    91.44039699999999,
                    85.190847,
                    88.59576999999999,
                    83.112728,
                    75.114877,
                    62.962209,
                    70.41284,
                    67.460586,
                    69.53143700000001,
                    79.819487,
                    56.71403,
                    69.107879,
                    64.686595,
                    67.99010799999999,
                    69.33976,
                    63.820130999999996,
                    70.143227,
                    62.249032,
                    67.629322,
                    70.15795200000001,
                    54.624379,
                    34.43115,
                    50.396952,
                    60.576809999999995,
                    71.25316500000001,
                    90.95408900000001,
                    87.488125,
                    88.023633,
                    104.961873,
                    105.604362,
                    43.047358,
                    41.157681,
                    41.9628476,
                    42.461607799999996,
                    42.6743242,
                    32.0683152,
                    35.193492,
                    39.492138999999995,
                    41.8362606,
                    48.2176375,
                    41.28275599999999,
                    46.94011199999999,
                    49.267500999999996,
                    50.909339,
                    58.105358,
                    56.611297,
                    58.194633,
                    59.03121900000001,
                    59.14716000000001,
                    55.789252000000005,
                    58.003777,
                    58.390522,
                    56.810156,
                    56.19319599999999,
                    63.132092,
                    59.823924999999996,
                    60.202785000000006,
                    59.696375,
                    61.183164000000005,
                    60.70684,
                    61.950846000000006,
                    64.3999219196,
                    65.4800710506,
                    67.781140607,
                    71.949191366,
                    74.232793126,
                    74.8603282735,
                    73.638338429,
                    77.575408872092,
                    77.41727574176998,
                    83.33715771517001,
                    84.81625669184001,
                    88.062085593,
                    86.7535985137,
                    91.25805968099998,
                    93.332532429,
                    95.1585532927,
                    93.05437125274,
                    88.5734697356,
                    82.98926042578,
                    80.3099888966,
                    83.10190341145,
                    87.70729080467,
                    156.784609118,
                    162.83645134999998,
                    165.50760212,
                    169.04755790000002,
                    164.58744812,
                    151.3165196,
                    139.3514718,
                    134.2742232,
                    115.8031889186,
                    114.65662531039999,
                    119.056128419,
                    123.95876521159998,
                    129.48624829312,
                    127.98580806274,
                    137.89633809867001,
                    142.11526619000003,
                    135.60126701000002,
                    132.78916504,
                    134.8783918,
                    126.07365617465,
                    139.828756431141,
                    148.57654058908602,
                    32.223146,
                    42.4880646,
                    39.885492,
                    45.95828899999999,
                    45.319486999999995,
                    43.906456,
                    49.154793000000005,
                    70.213049,
                    71.40819900000001,
                    74.367783,
                    106.657027,
                    114.460663,
                    116.423284,
                    105.459907,
                    124.23904,
                    146.15966,
                    166.39684999999997,
                    173.28183,
                    179.29849,
                    189.840284,
                    181.538765,
                    209.539706,
                    192.17887,
                    190.47023000000002,
                    199.51366000000002,
                    199.20739,
                    194.22409,
                    189.887935,
                    182.844296,
                    173.80353,
                    163.58065000000002,
                    19.768032915,
                    19.49582805,
                    20.00076484,
                    22.21499485,
                    22.31313551,
                    22.536437530000004,
                    23.93395101,
                    25.91149704,
                    25.725282112000006,
                    27.56555683,
                    29.994125679999996,
                    30.264037465,
                    30.032653315,
                    29.132519684999995,
                    28.927444445000003,
                    28.948620714999997,
                    30.30346243,
                    29.506630029999997,
                    29.96281626,
                    29.47094633,
                    30.5588385,
                    30.0422674,
                    31.768112652,
                    30.731829095000002,
                    32.638691042000005,
                    32.903049216,
                    31.4043533135,
                    32.52755724,
                    33.812813967000004,
                    33.186240172,
                    33.499536114,
                    34.17155335099999,
                    33.954153286,
                    31.175872473,
                    33.286899299999995,
                    33.737116643,
                    35.027711190000005,
                    36.432213424000004,
                    35.231299103,
                    34.66000907,
                    32.956672912,
                    33.33471866826,
                    34.44508155542,
                    34.31051246007,
                    32.55959817627,
                    31.74831044496,
                    27.46087459002,
                    27.842626301830002,
                    24.079881129998,
                    21.230727850680996,
                    17.72526894865,
                    20.686415607885,
                    21.683146056971
                  ],
                  "yaxis": "y4"
                }
              ],
              "layout": {
                "annotations": [
                  {
                    "font": {
                      "size": 16
                    },
                    "showarrow": false,
                    "text": "US & Canada",
                    "x": 0.225,
                    "xanchor": "center",
                    "xref": "paper",
                    "y": 1,
                    "yanchor": "bottom",
                    "yref": "paper"
                  },
                  {
                    "font": {
                      "size": 16
                    },
                    "showarrow": false,
                    "text": "European Union",
                    "x": 0.775,
                    "xanchor": "center",
                    "xref": "paper",
                    "y": 1,
                    "yanchor": "bottom",
                    "yref": "paper"
                  },
                  {
                    "font": {
                      "size": 16
                    },
                    "showarrow": false,
                    "text": "Asia",
                    "x": 0.225,
                    "xanchor": "center",
                    "xref": "paper",
                    "y": 0.375,
                    "yanchor": "bottom",
                    "yref": "paper"
                  },
                  {
                    "font": {
                      "size": 16
                    },
                    "showarrow": false,
                    "text": "OPEC Countries",
                    "x": 0.775,
                    "xanchor": "center",
                    "xref": "paper",
                    "y": 0.375,
                    "yanchor": "bottom",
                    "yref": "paper"
                  }
                ],
                "bargap": 0.4,
                "height": 900,
                "template": {
                  "data": {
                    "bar": [
                      {
                        "error_x": {
                          "color": "#2a3f5f"
                        },
                        "error_y": {
                          "color": "#2a3f5f"
                        },
                        "marker": {
                          "line": {
                            "color": "#E5ECF6",
                            "width": 0.5
                          },
                          "pattern": {
                            "fillmode": "overlay",
                            "size": 10,
                            "solidity": 0.2
                          }
                        },
                        "type": "bar"
                      }
                    ],
                    "barpolar": [
                      {
                        "marker": {
                          "line": {
                            "color": "#E5ECF6",
                            "width": 0.5
                          },
                          "pattern": {
                            "fillmode": "overlay",
                            "size": 10,
                            "solidity": 0.2
                          }
                        },
                        "type": "barpolar"
                      }
                    ],
                    "carpet": [
                      {
                        "aaxis": {
                          "endlinecolor": "#2a3f5f",
                          "gridcolor": "white",
                          "linecolor": "white",
                          "minorgridcolor": "white",
                          "startlinecolor": "#2a3f5f"
                        },
                        "baxis": {
                          "endlinecolor": "#2a3f5f",
                          "gridcolor": "white",
                          "linecolor": "white",
                          "minorgridcolor": "white",
                          "startlinecolor": "#2a3f5f"
                        },
                        "type": "carpet"
                      }
                    ],
                    "choropleth": [
                      {
                        "colorbar": {
                          "outlinewidth": 0,
                          "ticks": ""
                        },
                        "type": "choropleth"
                      }
                    ],
                    "contour": [
                      {
                        "colorbar": {
                          "outlinewidth": 0,
                          "ticks": ""
                        },
                        "colorscale": [
                          [
                            0,
                            "#0d0887"
                          ],
                          [
                            0.1111111111111111,
                            "#46039f"
                          ],
                          [
                            0.2222222222222222,
                            "#7201a8"
                          ],
                          [
                            0.3333333333333333,
                            "#9c179e"
                          ],
                          [
                            0.4444444444444444,
                            "#bd3786"
                          ],
                          [
                            0.5555555555555556,
                            "#d8576b"
                          ],
                          [
                            0.6666666666666666,
                            "#ed7953"
                          ],
                          [
                            0.7777777777777778,
                            "#fb9f3a"
                          ],
                          [
                            0.8888888888888888,
                            "#fdca26"
                          ],
                          [
                            1,
                            "#f0f921"
                          ]
                        ],
                        "type": "contour"
                      }
                    ],
                    "contourcarpet": [
                      {
                        "colorbar": {
                          "outlinewidth": 0,
                          "ticks": ""
                        },
                        "type": "contourcarpet"
                      }
                    ],
                    "heatmap": [
                      {
                        "colorbar": {
                          "outlinewidth": 0,
                          "ticks": ""
                        },
                        "colorscale": [
                          [
                            0,
                            "#0d0887"
                          ],
                          [
                            0.1111111111111111,
                            "#46039f"
                          ],
                          [
                            0.2222222222222222,
                            "#7201a8"
                          ],
                          [
                            0.3333333333333333,
                            "#9c179e"
                          ],
                          [
                            0.4444444444444444,
                            "#bd3786"
                          ],
                          [
                            0.5555555555555556,
                            "#d8576b"
                          ],
                          [
                            0.6666666666666666,
                            "#ed7953"
                          ],
                          [
                            0.7777777777777778,
                            "#fb9f3a"
                          ],
                          [
                            0.8888888888888888,
                            "#fdca26"
                          ],
                          [
                            1,
                            "#f0f921"
                          ]
                        ],
                        "type": "heatmap"
                      }
                    ],
                    "heatmapgl": [
                      {
                        "colorbar": {
                          "outlinewidth": 0,
                          "ticks": ""
                        },
                        "colorscale": [
                          [
                            0,
                            "#0d0887"
                          ],
                          [
                            0.1111111111111111,
                            "#46039f"
                          ],
                          [
                            0.2222222222222222,
                            "#7201a8"
                          ],
                          [
                            0.3333333333333333,
                            "#9c179e"
                          ],
                          [
                            0.4444444444444444,
                            "#bd3786"
                          ],
                          [
                            0.5555555555555556,
                            "#d8576b"
                          ],
                          [
                            0.6666666666666666,
                            "#ed7953"
                          ],
                          [
                            0.7777777777777778,
                            "#fb9f3a"
                          ],
                          [
                            0.8888888888888888,
                            "#fdca26"
                          ],
                          [
                            1,
                            "#f0f921"
                          ]
                        ],
                        "type": "heatmapgl"
                      }
                    ],
                    "histogram": [
                      {
                        "marker": {
                          "pattern": {
                            "fillmode": "overlay",
                            "size": 10,
                            "solidity": 0.2
                          }
                        },
                        "type": "histogram"
                      }
                    ],
                    "histogram2d": [
                      {
                        "colorbar": {
                          "outlinewidth": 0,
                          "ticks": ""
                        },
                        "colorscale": [
                          [
                            0,
                            "#0d0887"
                          ],
                          [
                            0.1111111111111111,
                            "#46039f"
                          ],
                          [
                            0.2222222222222222,
                            "#7201a8"
                          ],
                          [
                            0.3333333333333333,
                            "#9c179e"
                          ],
                          [
                            0.4444444444444444,
                            "#bd3786"
                          ],
                          [
                            0.5555555555555556,
                            "#d8576b"
                          ],
                          [
                            0.6666666666666666,
                            "#ed7953"
                          ],
                          [
                            0.7777777777777778,
                            "#fb9f3a"
                          ],
                          [
                            0.8888888888888888,
                            "#fdca26"
                          ],
                          [
                            1,
                            "#f0f921"
                          ]
                        ],
                        "type": "histogram2d"
                      }
                    ],
                    "histogram2dcontour": [
                      {
                        "colorbar": {
                          "outlinewidth": 0,
                          "ticks": ""
                        },
                        "colorscale": [
                          [
                            0,
                            "#0d0887"
                          ],
                          [
                            0.1111111111111111,
                            "#46039f"
                          ],
                          [
                            0.2222222222222222,
                            "#7201a8"
                          ],
                          [
                            0.3333333333333333,
                            "#9c179e"
                          ],
                          [
                            0.4444444444444444,
                            "#bd3786"
                          ],
                          [
                            0.5555555555555556,
                            "#d8576b"
                          ],
                          [
                            0.6666666666666666,
                            "#ed7953"
                          ],
                          [
                            0.7777777777777778,
                            "#fb9f3a"
                          ],
                          [
                            0.8888888888888888,
                            "#fdca26"
                          ],
                          [
                            1,
                            "#f0f921"
                          ]
                        ],
                        "type": "histogram2dcontour"
                      }
                    ],
                    "mesh3d": [
                      {
                        "colorbar": {
                          "outlinewidth": 0,
                          "ticks": ""
                        },
                        "type": "mesh3d"
                      }
                    ],
                    "parcoords": [
                      {
                        "line": {
                          "colorbar": {
                            "outlinewidth": 0,
                            "ticks": ""
                          }
                        },
                        "type": "parcoords"
                      }
                    ],
                    "pie": [
                      {
                        "automargin": true,
                        "type": "pie"
                      }
                    ],
                    "scatter": [
                      {
                        "fillpattern": {
                          "fillmode": "overlay",
                          "size": 10,
                          "solidity": 0.2
                        },
                        "type": "scatter"
                      }
                    ],
                    "scatter3d": [
                      {
                        "line": {
                          "colorbar": {
                            "outlinewidth": 0,
                            "ticks": ""
                          }
                        },
                        "marker": {
                          "colorbar": {
                            "outlinewidth": 0,
                            "ticks": ""
                          }
                        },
                        "type": "scatter3d"
                      }
                    ],
                    "scattercarpet": [
                      {
                        "marker": {
                          "colorbar": {
                            "outlinewidth": 0,
                            "ticks": ""
                          }
                        },
                        "type": "scattercarpet"
                      }
                    ],
                    "scattergeo": [
                      {
                        "marker": {
                          "colorbar": {
                            "outlinewidth": 0,
                            "ticks": ""
                          }
                        },
                        "type": "scattergeo"
                      }
                    ],
                    "scattergl": [
                      {
                        "marker": {
                          "colorbar": {
                            "outlinewidth": 0,
                            "ticks": ""
                          }
                        },
                        "type": "scattergl"
                      }
                    ],
                    "scattermapbox": [
                      {
                        "marker": {
                          "colorbar": {
                            "outlinewidth": 0,
                            "ticks": ""
                          }
                        },
                        "type": "scattermapbox"
                      }
                    ],
                    "scatterpolar": [
                      {
                        "marker": {
                          "colorbar": {
                            "outlinewidth": 0,
                            "ticks": ""
                          }
                        },
                        "type": "scatterpolar"
                      }
                    ],
                    "scatterpolargl": [
                      {
                        "marker": {
                          "colorbar": {
                            "outlinewidth": 0,
                            "ticks": ""
                          }
                        },
                        "type": "scatterpolargl"
                      }
                    ],
                    "scatterternary": [
                      {
                        "marker": {
                          "colorbar": {
                            "outlinewidth": 0,
                            "ticks": ""
                          }
                        },
                        "type": "scatterternary"
                      }
                    ],
                    "surface": [
                      {
                        "colorbar": {
                          "outlinewidth": 0,
                          "ticks": ""
                        },
                        "colorscale": [
                          [
                            0,
                            "#0d0887"
                          ],
                          [
                            0.1111111111111111,
                            "#46039f"
                          ],
                          [
                            0.2222222222222222,
                            "#7201a8"
                          ],
                          [
                            0.3333333333333333,
                            "#9c179e"
                          ],
                          [
                            0.4444444444444444,
                            "#bd3786"
                          ],
                          [
                            0.5555555555555556,
                            "#d8576b"
                          ],
                          [
                            0.6666666666666666,
                            "#ed7953"
                          ],
                          [
                            0.7777777777777778,
                            "#fb9f3a"
                          ],
                          [
                            0.8888888888888888,
                            "#fdca26"
                          ],
                          [
                            1,
                            "#f0f921"
                          ]
                        ],
                        "type": "surface"
                      }
                    ],
                    "table": [
                      {
                        "cells": {
                          "fill": {
                            "color": "#EBF0F8"
                          },
                          "line": {
                            "color": "white"
                          }
                        },
                        "header": {
                          "fill": {
                            "color": "#C8D4E3"
                          },
                          "line": {
                            "color": "white"
                          }
                        },
                        "type": "table"
                      }
                    ]
                  },
                  "layout": {
                    "annotationdefaults": {
                      "arrowcolor": "#2a3f5f",
                      "arrowhead": 0,
                      "arrowwidth": 1
                    },
                    "autotypenumbers": "strict",
                    "coloraxis": {
                      "colorbar": {
                        "outlinewidth": 0,
                        "ticks": ""
                      }
                    },
                    "colorscale": {
                      "diverging": [
                        [
                          0,
                          "#8e0152"
                        ],
                        [
                          0.1,
                          "#c51b7d"
                        ],
                        [
                          0.2,
                          "#de77ae"
                        ],
                        [
                          0.3,
                          "#f1b6da"
                        ],
                        [
                          0.4,
                          "#fde0ef"
                        ],
                        [
                          0.5,
                          "#f7f7f7"
                        ],
                        [
                          0.6,
                          "#e6f5d0"
                        ],
                        [
                          0.7,
                          "#b8e186"
                        ],
                        [
                          0.8,
                          "#7fbc41"
                        ],
                        [
                          0.9,
                          "#4d9221"
                        ],
                        [
                          1,
                          "#276419"
                        ]
                      ],
                      "sequential": [
                        [
                          0,
                          "#0d0887"
                        ],
                        [
                          0.1111111111111111,
                          "#46039f"
                        ],
                        [
                          0.2222222222222222,
                          "#7201a8"
                        ],
                        [
                          0.3333333333333333,
                          "#9c179e"
                        ],
                        [
                          0.4444444444444444,
                          "#bd3786"
                        ],
                        [
                          0.5555555555555556,
                          "#d8576b"
                        ],
                        [
                          0.6666666666666666,
                          "#ed7953"
                        ],
                        [
                          0.7777777777777778,
                          "#fb9f3a"
                        ],
                        [
                          0.8888888888888888,
                          "#fdca26"
                        ],
                        [
                          1,
                          "#f0f921"
                        ]
                      ],
                      "sequentialminus": [
                        [
                          0,
                          "#0d0887"
                        ],
                        [
                          0.1111111111111111,
                          "#46039f"
                        ],
                        [
                          0.2222222222222222,
                          "#7201a8"
                        ],
                        [
                          0.3333333333333333,
                          "#9c179e"
                        ],
                        [
                          0.4444444444444444,
                          "#bd3786"
                        ],
                        [
                          0.5555555555555556,
                          "#d8576b"
                        ],
                        [
                          0.6666666666666666,
                          "#ed7953"
                        ],
                        [
                          0.7777777777777778,
                          "#fb9f3a"
                        ],
                        [
                          0.8888888888888888,
                          "#fdca26"
                        ],
                        [
                          1,
                          "#f0f921"
                        ]
                      ]
                    },
                    "colorway": [
                      "#636efa",
                      "#EF553B",
                      "#00cc96",
                      "#ab63fa",
                      "#FFA15A",
                      "#19d3f3",
                      "#FF6692",
                      "#B6E880",
                      "#FF97FF",
                      "#FECB52"
                    ],
                    "font": {
                      "color": "#2a3f5f"
                    },
                    "geo": {
                      "bgcolor": "white",
                      "lakecolor": "white",
                      "landcolor": "#E5ECF6",
                      "showlakes": true,
                      "showland": true,
                      "subunitcolor": "white"
                    },
                    "hoverlabel": {
                      "align": "left"
                    },
                    "hovermode": "closest",
                    "mapbox": {
                      "style": "light"
                    },
                    "paper_bgcolor": "white",
                    "plot_bgcolor": "#E5ECF6",
                    "polar": {
                      "angularaxis": {
                        "gridcolor": "white",
                        "linecolor": "white",
                        "ticks": ""
                      },
                      "bgcolor": "#E5ECF6",
                      "radialaxis": {
                        "gridcolor": "white",
                        "linecolor": "white",
                        "ticks": ""
                      }
                    },
                    "scene": {
                      "xaxis": {
                        "backgroundcolor": "#E5ECF6",
                        "gridcolor": "white",
                        "gridwidth": 2,
                        "linecolor": "white",
                        "showbackground": true,
                        "ticks": "",
                        "zerolinecolor": "white"
                      },
                      "yaxis": {
                        "backgroundcolor": "#E5ECF6",
                        "gridcolor": "white",
                        "gridwidth": 2,
                        "linecolor": "white",
                        "showbackground": true,
                        "ticks": "",
                        "zerolinecolor": "white"
                      },
                      "zaxis": {
                        "backgroundcolor": "#E5ECF6",
                        "gridcolor": "white",
                        "gridwidth": 2,
                        "linecolor": "white",
                        "showbackground": true,
                        "ticks": "",
                        "zerolinecolor": "white"
                      }
                    },
                    "shapedefaults": {
                      "line": {
                        "color": "#2a3f5f"
                      }
                    },
                    "ternary": {
                      "aaxis": {
                        "gridcolor": "white",
                        "linecolor": "white",
                        "ticks": ""
                      },
                      "baxis": {
                        "gridcolor": "white",
                        "linecolor": "white",
                        "ticks": ""
                      },
                      "bgcolor": "#E5ECF6",
                      "caxis": {
                        "gridcolor": "white",
                        "linecolor": "white",
                        "ticks": ""
                      }
                    },
                    "title": {
                      "x": 0.05
                    },
                    "xaxis": {
                      "automargin": true,
                      "gridcolor": "white",
                      "linecolor": "white",
                      "ticks": "",
                      "title": {
                        "standoff": 15
                      },
                      "zerolinecolor": "white",
                      "zerolinewidth": 2
                    },
                    "yaxis": {
                      "automargin": true,
                      "gridcolor": "white",
                      "linecolor": "white",
                      "ticks": "",
                      "title": {
                        "standoff": 15
                      },
                      "zerolinecolor": "white",
                      "zerolinewidth": 2
                    }
                  }
                },
                "title": {
                  "text": "Total Energy Consumption by Region (MWh)"
                },
                "width": 1000,
                "xaxis": {
                  "anchor": "y",
                  "domain": [
                    0,
                    0.45
                  ],
                  "tickvals": [
                    1970,
                    1980,
                    1990,
                    2000,
                    2010
                  ]
                },
                "xaxis2": {
                  "anchor": "y2",
                  "domain": [
                    0.55,
                    1
                  ],
                  "tickvals": [
                    1970,
                    1980,
                    1990,
                    2000,
                    2010
                  ]
                },
                "xaxis3": {
                  "anchor": "y3",
                  "domain": [
                    0,
                    0.45
                  ],
                  "tickvals": [
                    1970,
                    1980,
                    1990,
                    2000,
                    2010
                  ]
                },
                "xaxis4": {
                  "anchor": "y4",
                  "domain": [
                    0.55,
                    1
                  ],
                  "tickvals": [
                    1970,
                    1980,
                    1990,
                    2000,
                    2010
                  ]
                },
                "yaxis": {
                  "anchor": "x",
                  "domain": [
                    0.625,
                    1
                  ]
                },
                "yaxis2": {
                  "anchor": "x2",
                  "domain": [
                    0.625,
                    1
                  ]
                },
                "yaxis3": {
                  "anchor": "x3",
                  "domain": [
                    0,
                    0.375
                  ]
                },
                "yaxis4": {
                  "anchor": "x4",
                  "domain": [
                    0,
                    0.375
                  ]
                }
              }
            }
          },
          "metadata": {},
          "output_type": "display_data"
        }
      ],
      "source": [
        "fig = make_subplots(rows=2,\n",
        "                    cols=2,\n",
        "                    subplot_titles=(\"US & Canada\", \"European Union\", \"Asia\", \"OPEC Countries\"))\n",
        "\n",
        "fig.add_trace(go.Scatter(x=energyDF_region[energyDF_region['Entity']=='US & Canada']['Year'].sort_values(),\n",
        "                     y=energyDF_region[energyDF_region['Entity']=='US & Canada']['TotalEnerygyPerCap']/1000,\n",
        "                     name='Total Enerygy',\n",
        "                     marker=dict(color='black')\n",
        "                     ), row=1, col=1)\n",
        "\n",
        "fig.add_trace(go.Scatter(x=energyDF_region[energyDF_region['Entity']=='European Union (27)']['Year'].sort_values(),\n",
        "                     y=energyDF_region[energyDF_region['Entity']=='European Union (27)']['TotalEnerygyPerCap']/1000,\n",
        "                    #  name='Reneweable Enerygy',\n",
        "                     marker=dict(color='black',),\n",
        "                     showlegend = False\n",
        "                     ), row=1, col=2)\n",
        "\n",
        "fig.add_trace(go.Scatter(x=energyDF_region[energyDF_region['Entity']=='Asia']['Year'].sort_values(),\n",
        "                     y=energyDF_region[energyDF_region['Entity']=='Asia']['TotalEnerygyPerCap']/1000,\n",
        "                    #  name='Reneweable Enerygy',\n",
        "                     marker=dict(color='black'),\n",
        "                     showlegend = False\n",
        "                     ), row=2, col=1)\n",
        "\n",
        "fig.add_trace(go.Scatter(x=energyDF_region[energyDF_region['Entity']=='OPEC']['Year'].sort_values(),\n",
        "                     y=energyDF_region[energyDF_region['Entity']=='OPEC']['TotalEnerygyPerCap']/1000,\n",
        "                    #  name='Reneweable Enerygy',\n",
        "                     marker=dict(color='black'),\n",
        "                     showlegend = False\n",
        "                     ), row=2, col=2)\n",
        "\n",
        "fig.update_traces(marker_line_width=0)\n",
        "\n",
        "fig.update_layout(height=900,\n",
        "                  width=1000,\n",
        "                  bargap=0.4,\n",
        "                #   barmode='stack',\n",
        "                  title_text=\"Total Energy Consumption by Region (MWh)\",\n",
        "                  xaxis=dict(tickvals = df_region['Decade'].unique()),\n",
        "                  xaxis2=dict(tickvals = df_region['Decade'].unique()),\n",
        "                  xaxis3=dict(tickvals = df_region['Decade'].unique()),\n",
        "                  xaxis4=dict(tickvals = df_region['Decade'].unique())\n",
        "                  )\n",
        "\n",
        "fig.show()"
      ]
    },
    {
      "cell_type": "markdown",
      "metadata": {
        "id": "54fkfF-uw1Be"
      },
      "source": [
        "By region (US and Canada, OPEC countries, Asia, and the European Union), the line graphs display the trend in total energy use per person during the previous five decades. The US and Canada have essentially followed the same pattern as the European Union, however the US and Canada have experienced greater swings than the EU. Energy consumption peaked per person in the US and Canada in 1985 and 1988 at about 118 MWh. In contrast, the EU's energy consumption peaked at 43 MWh in 2004 and 2006. Only 36% of what was used at its height in the US and Canada was used by the European Union. The tendency appears to be declining, which is good news.\n",
        "\n",
        "With having a turbulent graph, OPEC nations have turned out to be the worst energy consumers. In fact, the OPEC countries recently saw the highest-ever energy consumption of 209 MWh in 2014, which is the highest any region has ever seen. Nevertheless, since 2014, there has been a sharp decline in energy use, and in 2022, they used less energy per person than the US&Canada and the European Union.\n",
        "\n",
        "Asian energy consumption per person initially appears to be rising practically continuously, which would be concerning. However, even at its peak (19 MWh in 2022), Asian energy consumption per capita is still less than that of the EU and the US & Canada. Asia, though, may surpass other regions if the trend persists."
      ]
    },
    {
      "cell_type": "markdown",
      "metadata": {
        "id": "fFED2f90YJYZ"
      },
      "source": [
        "### Conclusion\n",
        "\n",
        "\n",
        "Before the analysis, we posed two questions.\n",
        "\n",
        "- How has global per capita energy consumption changed over time?\n",
        "- How does the renewable vs. non-renewable makeup of this energy consumption compare?\n",
        "\n",
        "\n",
        "In order to draw a conclusion, we will attempt to present a summary of the solutions based on the analysis in the report.\n",
        "\n",
        "Based on the Data Visualizations created we have observed the following.\n",
        "\n",
        "- The global per capita energy consumption has seen a drastic increase over the decade and its trajectory has been influenced by various factors, including technological advancements, economic development, population growth, and shifts in energy sources. Due the these advancements, the demand for energy has seen steady growth with no room for slowing down as of yet. Energy consumption will always increase amongst a civilization as we strive to move forward. this is fueled by our desire to improve our lives and make the right changes to increase the quality of life.\n",
        "\n",
        "- Up until 1990, the amount of total energy utilized per person remained basically constant. Since 1990, the average person's energy usage has been rising at a 7%-per-decade rate. The proportion of renewable energy, on the other hand, has been rising relatively flatly at a pace of about 1% every decade with Asia seeing the most growth in its energy consumption when compared to the rest of the regions. This increase in demand has only encountered 1 major issue which is which energy source is utilized. This debates for the fight between renewable and Non-renewable energy sources\n",
        "\n",
        "- The rise of renewable sources of energy and the environmental movement has made the consumers more Eco-friendly. Efforts to combat climate change and reduce greenhouse gas emissions are driving the global transition toward a greater reliance on renewable energy sources. However, the pace and success of this transition depend on numerous factors, including political will, economic considerations, and technological advancements. In some countries and regions, the transition to renewables has been more pronounced, with a growing percentage of electricity coming from wind, solar, and hydroelectric power. the OPEC countries have not yet reached Sustainability therefore they rely more on non-renewable sources of energy. this is caused due to a lack of knowledge and awareness which in turn causes harm to both the environment and the consumers. The most amount of growth in the renewable energy sector has been observed in the region of the US & Canada with an average of 2% growth per decade with Europe being the next biggest region to increase its growth by 3% per-decade.\n"
      ]
    },
    {
      "cell_type": "markdown",
      "metadata": {
        "id": "_RfyLNLUYOXL"
      },
      "source": [
        "### Citations\n",
        "\n",
        "1. Hannah Ritchie, Max Roser and Pablo Rosado (2022) - \"Energy\". Published online at OurWorldInData.org. Retrieved from: 'https://ourworldindata.org/energy' [Online Resource]\n",
        "\n",
        "2. Data from Feenstra et al. (2015) Penn World Table v10.0 via Our World in Data.\n",
        "\n",
        "*   Feenstra, Robert C., Robert Inklaar and Marcel P. Timmer (2015), “The Next Generation of the Penn World Table” American Economic Review, 105(10), 3150-3182, available for download at www.ggdc.net/pwt.\n",
        "\n",
        "*   Max Roser (2013) – “Economic Growth”. Published online at OurWorldInData.org. Retrieved from: ‘https://ourworldindata.org/economic-growth’ [Online Resource]\n"
      ]
    }
  ],
  "metadata": {
    "colab": {
      "provenance": []
    },
    "kernelspec": {
      "display_name": "Python 3",
      "name": "python3"
    },
    "language_info": {
      "codemirror_mode": {
        "name": "ipython",
        "version": 3
      },
      "file_extension": ".py",
      "mimetype": "text/x-python",
      "name": "python",
      "nbconvert_exporter": "python",
      "pygments_lexer": "ipython3",
      "version": "3.10.0"
    },
    "orig_nbformat": 4
  },
  "nbformat": 4,
  "nbformat_minor": 0
}
